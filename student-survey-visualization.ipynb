{
 "cells": [
  {
   "cell_type": "markdown",
   "metadata": {},
   "source": [
    "A survey was released for students to take to create a sample data set for analysis. Many of the questions included in the survey were focused on data skills, but also included a list of categorical questions related to food, literature, and travel. In this demonstration, I am going to review the survey, clean the data, and create ways of visualizing the data while narrating the results in an understandable way. "
   ]
  },
  {
   "cell_type": "markdown",
   "metadata": {},
   "source": [
    "## The DataFrame"
   ]
  },
  {
   "cell_type": "markdown",
   "metadata": {},
   "source": [
    "Let's begin by importing the data set to get an idea of how much processing will be needed before creating the visualizations. The pandas and numpy libraries will help to create a dataframe of the data. We'll use the following code to import the libraries and print the entire dataframe for us to look at. "
   ]
  },
  {
   "cell_type": "code",
   "execution_count": 82,
   "metadata": {},
   "outputs": [
    {
     "data": {
      "text/html": [
       "<div>\n",
       "<style scoped>\n",
       "    .dataframe tbody tr th:only-of-type {\n",
       "        vertical-align: middle;\n",
       "    }\n",
       "\n",
       "    .dataframe tbody tr th {\n",
       "        vertical-align: top;\n",
       "    }\n",
       "\n",
       "    .dataframe thead th {\n",
       "        text-align: right;\n",
       "    }\n",
       "</style>\n",
       "<table border=\"1\" class=\"dataframe\">\n",
       "  <thead>\n",
       "    <tr style=\"text-align: center;\">\n",
       "      <th></th>\n",
       "      <th>username</th>\n",
       "      <th>How comfortable are you with your ability to debug an error in a python script?</th>\n",
       "      <th>Doing well at programming tasks will enhance my career/job opportunities.</th>\n",
       "      <th>How comfortable are you with your ability to perform data visualization with python?</th>\n",
       "      <th>Doing well at data visualization will enhance my career/job opportunities.</th>\n",
       "      <th>I believe that my ability to complete programming tasks will increase my self worth.</th>\n",
       "      <th>You have a certain amount of “programming intelligence”, and you can’t really do much to change it.</th>\n",
       "      <th>The feeling of satisfaction I get when successfully completing a programming task is greater than the feelings of frustration when I have unsolved errors/bugs.</th>\n",
       "      <th>My mathematics background is:</th>\n",
       "      <th>My data manipulation skills are:</th>\n",
       "      <th>Which generation do you most identify with?</th>\n",
       "      <th>What type of literature do you prefer?</th>\n",
       "      <th>What type of food to you most prefer?</th>\n",
       "      <th>Have you ever visited New York City?</th>\n",
       "    </tr>\n",
       "  </thead>\n",
       "  <tbody>\n",
       "    <tr>\n",
       "      <th>0</th>\n",
       "      <td>Drgnfly</td>\n",
       "      <td>Comfortable  : 64;Neither comfortable nor unco...</td>\n",
       "      <td>Agree: 46;Disagree: 13;Neither agree nor disag...</td>\n",
       "      <td>Comfortable: 42;Neither comfortable nor uncomf...</td>\n",
       "      <td>Agree: 73;Disagree: 0;Neither agree nor disagr...</td>\n",
       "      <td>Agree: 42;Disagree: 37;Neither agree nor disag...</td>\n",
       "      <td>Agree: 14;Disagree: 70;Neither agree nor disag...</td>\n",
       "      <td>Agree: 46;Disagree: 42;Neither agree nor disag...</td>\n",
       "      <td>a strength: 39;a weakness: 5;average: 56;average</td>\n",
       "      <td>a strength: 45;a weakness: 16;average: 39;average</td>\n",
       "      <td>Baby Boomers: 7;Gen X: 12;Gen Z: 34;Millennial...</td>\n",
       "      <td>Mystery: 44;Science Fiction/Fantasy: 56;Mystery</td>\n",
       "      <td>Savory: 27;Spicy: 35;Sweet: 38;Spicy</td>\n",
       "      <td>No: 59;Yes: 41;Yes</td>\n",
       "    </tr>\n",
       "    <tr>\n",
       "      <th>1</th>\n",
       "      <td>Joseline</td>\n",
       "      <td>Comfortable  : 0;Neither comfortable nor uncom...</td>\n",
       "      <td>Agree: 96;Disagree: 0;Neither agree nor disagr...</td>\n",
       "      <td>Comfortable: 30;Neither comfortable nor uncomf...</td>\n",
       "      <td>Agree: 94;Disagree: 0;Neither agree nor disagr...</td>\n",
       "      <td>Agree: 51;Disagree: 11;Neither agree nor disag...</td>\n",
       "      <td>Agree: 11;Disagree: 84;Neither agree nor disag...</td>\n",
       "      <td>Agree: 91;Disagree: 2;Neither agree nor disagr...</td>\n",
       "      <td>a strength: 7;a weakness: 67;average: 26;a wea...</td>\n",
       "      <td>a strength: 24;a weakness: 34;average: 42;average</td>\n",
       "      <td>Baby Boomers: 4;Gen X: 14;Gen Z: 49;Millennial...</td>\n",
       "      <td>Mystery: 35;Science Fiction/Fantasy: 65;Scienc...</td>\n",
       "      <td>Savory: 31;Spicy: 45;Sweet: 24;Savory</td>\n",
       "      <td>No: 23;Yes: 77;Yes</td>\n",
       "    </tr>\n",
       "    <tr>\n",
       "      <th>2</th>\n",
       "      <td>solopte</td>\n",
       "      <td>Comfortable  : 10;Neither comfortable nor unco...</td>\n",
       "      <td>Agree: 90;Disagree: 0;Neither agree nor disagr...</td>\n",
       "      <td>Comfortable: 50;Neither comfortable nor uncomf...</td>\n",
       "      <td>Agree: 80;Disagree: 0;Neither agree nor disagr...</td>\n",
       "      <td>Agree: 20;Disagree: 30;Neither agree nor disag...</td>\n",
       "      <td>Agree: 0;Disagree: 80;Neither agree nor disagr...</td>\n",
       "      <td>Agree: 90;Disagree: 0;Neither agree nor disagr...</td>\n",
       "      <td>a strength: 50;a weakness: 0;average: 50;a str...</td>\n",
       "      <td>a strength: 50;a weakness: 0;average: 50;a str...</td>\n",
       "      <td>Baby Boomers: 10;Gen X: 25;Gen Z: 30;Millennia...</td>\n",
       "      <td>Mystery: 50;Science Fiction/Fantasy: 50;Scienc...</td>\n",
       "      <td>Savory: 50;Spicy: 30;Sweet: 20;Savory</td>\n",
       "      <td>No: 80;Yes: 20;Yes</td>\n",
       "    </tr>\n",
       "    <tr>\n",
       "      <th>3</th>\n",
       "      <td>521student</td>\n",
       "      <td>Comfortable  : 25;Neither comfortable nor unco...</td>\n",
       "      <td>Agree: 90;Disagree: 0;Neither agree nor disagr...</td>\n",
       "      <td>Comfortable: 40;Neither comfortable nor uncomf...</td>\n",
       "      <td>Agree: 80;Disagree: 0;Neither agree nor disagr...</td>\n",
       "      <td>Agree: 50;Disagree: 25;Neither agree nor disag...</td>\n",
       "      <td>Agree: 20;Disagree: 60;Neither agree nor disag...</td>\n",
       "      <td>Agree: 75;Disagree: 25;Neither agree nor disag...</td>\n",
       "      <td>a strength: 25;a weakness: 50;average: 25;a we...</td>\n",
       "      <td>a strength: 25;a weakness: 25;average: 50;average</td>\n",
       "      <td>Baby Boomers: 0;Gen X: 20;Gen Z: 40;Millennial...</td>\n",
       "      <td>Mystery: 40;Science Fiction/Fantasy: 60;Mystery</td>\n",
       "      <td>Savory: 30;Spicy: 30;Sweet: 40;Savory</td>\n",
       "      <td>No: 40;Yes: 60;Yes</td>\n",
       "    </tr>\n",
       "    <tr>\n",
       "      <th>4</th>\n",
       "      <td>goose456</td>\n",
       "      <td>Comfortable  : 72;Neither comfortable nor unco...</td>\n",
       "      <td>Agree: 90;Disagree: 0;Neither agree nor disagr...</td>\n",
       "      <td>Comfortable: 49;Neither comfortable nor uncomf...</td>\n",
       "      <td>Agree: 87;Disagree: 0;Neither agree nor disagr...</td>\n",
       "      <td>Agree: 2;Disagree: 94;Neither agree nor disagr...</td>\n",
       "      <td>Agree: 77;Disagree: 9;Neither agree nor disagr...</td>\n",
       "      <td>Agree: 86;Disagree: 8;Neither agree nor disagr...</td>\n",
       "      <td>a strength: 72;a weakness: 12;average: 16;average</td>\n",
       "      <td>a strength: 37;a weakness: 28;average: 35;average</td>\n",
       "      <td>Baby Boomers: 3;Gen X: 45;Gen Z: 2;Millennials...</td>\n",
       "      <td>Mystery: 46;Science Fiction/Fantasy: 54;Scienc...</td>\n",
       "      <td>Savory: 33;Spicy: 31;Sweet: 36;Sweet</td>\n",
       "      <td>No: 40;Yes: 60;Yes</td>\n",
       "    </tr>\n",
       "    <tr>\n",
       "      <th>5</th>\n",
       "      <td>239367</td>\n",
       "      <td>Comfortable  : 86;Neither comfortable nor unco...</td>\n",
       "      <td>Agree: 75;Disagree: 0;Neither agree nor disagr...</td>\n",
       "      <td>Comfortable: 76;Neither comfortable nor uncomf...</td>\n",
       "      <td>Agree: 81;Disagree: 0;Neither agree nor disagr...</td>\n",
       "      <td>Agree: 100;Disagree: 0;Neither agree nor disag...</td>\n",
       "      <td>Agree: 19;Disagree: 81;Neither agree nor disag...</td>\n",
       "      <td>Agree: 100;Disagree: 0;Neither agree nor disag...</td>\n",
       "      <td>a strength: 67;a weakness: 8;average: 25;average</td>\n",
       "      <td>a strength: 79;a weakness: 21;average: 0;average</td>\n",
       "      <td>Baby Boomers: 0;Gen X: 35;Gen Z: 30;Millennial...</td>\n",
       "      <td>Mystery: 44;Science Fiction/Fantasy: 56;Mystery</td>\n",
       "      <td>Savory: 41;Spicy: 17;Sweet: 42;Spicy</td>\n",
       "      <td>No: 10;Yes: 90;Yes</td>\n",
       "    </tr>\n",
       "    <tr>\n",
       "      <th>6</th>\n",
       "      <td>niloused</td>\n",
       "      <td>Comfortable  : 61;Neither comfortable nor unco...</td>\n",
       "      <td>Agree: 92;Disagree: 0;Neither agree nor disagr...</td>\n",
       "      <td>Comfortable: 62;Neither comfortable nor uncomf...</td>\n",
       "      <td>Agree: 80;Disagree: 16;Neither agree nor disag...</td>\n",
       "      <td>Agree: 83;Disagree: 8;Neither agree nor disagr...</td>\n",
       "      <td>Agree: 4;Disagree: 86;Neither agree nor disagr...</td>\n",
       "      <td>Agree: 76;Disagree: 10;Neither agree nor disag...</td>\n",
       "      <td>a strength: 12;a weakness: 54;average: 34;average</td>\n",
       "      <td>a strength: 39;a weakness: 8;average: 53;average</td>\n",
       "      <td>Baby Boomers: 0;Gen X: 3;Gen Z: 16;Millennials...</td>\n",
       "      <td>Mystery: 50;Science Fiction/Fantasy: 50;Mystery</td>\n",
       "      <td>Savory: 57;Spicy: 27;Sweet: 16;Spicy</td>\n",
       "      <td>No: 39;Yes: 61;Yes</td>\n",
       "    </tr>\n",
       "    <tr>\n",
       "      <th>7</th>\n",
       "      <td>vizzz</td>\n",
       "      <td>Comfortable  : 29;Neither comfortable nor unco...</td>\n",
       "      <td>Agree: 81;Disagree: 19;Neither agree nor disag...</td>\n",
       "      <td>Comfortable: 84;Neither comfortable nor uncomf...</td>\n",
       "      <td>Agree: 65;Disagree: 35;Neither agree nor disag...</td>\n",
       "      <td>Agree: 42;Disagree: 19;Neither agree nor disag...</td>\n",
       "      <td>Agree: 0;Disagree: 76;Neither agree nor disagr...</td>\n",
       "      <td>Agree: 83;Disagree: 17;Neither agree nor disag...</td>\n",
       "      <td>a strength: 72;a weakness: 28;average: 0;a str...</td>\n",
       "      <td>a strength: 0;a weakness: 34;average: 66;average</td>\n",
       "      <td>Baby Boomers: 0;Gen X: 14;Gen Z: 0;Millennials...</td>\n",
       "      <td>Mystery: 26;Science Fiction/Fantasy: 74;Mystery</td>\n",
       "      <td>Savory: 48;Spicy: 52;Sweet: 0;Spicy</td>\n",
       "      <td>No: 79;Yes: 21;Yes</td>\n",
       "    </tr>\n",
       "    <tr>\n",
       "      <th>8</th>\n",
       "      <td>callmebigdata</td>\n",
       "      <td>Comfortable  : 38;Neither comfortable nor unco...</td>\n",
       "      <td>Agree: 91;Disagree: 9;Neither agree nor disagr...</td>\n",
       "      <td>Comfortable: 0;Neither comfortable nor uncomfo...</td>\n",
       "      <td>Agree: 60;Disagree: 0;Neither agree nor disagr...</td>\n",
       "      <td>Agree: 32;Disagree: 68;Neither agree nor disag...</td>\n",
       "      <td>Agree: 15;Disagree: 85;Neither agree nor disag...</td>\n",
       "      <td>Agree: 79;Disagree: 17;Neither agree nor disag...</td>\n",
       "      <td>a strength: 0;a weakness: 70;average: 30;average</td>\n",
       "      <td>a strength: 0;a weakness: 36;average: 64;average</td>\n",
       "      <td>Baby Boomers: 8;Gen X: 34;Gen Z: 0;Millennials...</td>\n",
       "      <td>Mystery: 30;Science Fiction/Fantasy: 70;Scienc...</td>\n",
       "      <td>Savory: 32;Spicy: 35;Sweet: 33;Sweet</td>\n",
       "      <td>No: 38;Yes: 62;Yes</td>\n",
       "    </tr>\n",
       "    <tr>\n",
       "      <th>9</th>\n",
       "      <td>xyz789</td>\n",
       "      <td>Comfortable  : 50;Neither comfortable nor unco...</td>\n",
       "      <td>Agree: 100;Disagree: 0;Neither agree nor disag...</td>\n",
       "      <td>Comfortable: 25;Neither comfortable nor uncomf...</td>\n",
       "      <td>Agree: 30;Disagree: 60;Neither agree nor disag...</td>\n",
       "      <td>Agree: 50;Disagree: 25;Neither agree nor disag...</td>\n",
       "      <td>Agree: 10;Disagree: 80;Neither agree nor disag...</td>\n",
       "      <td>Agree: 10;Disagree: 80;Neither agree nor disag...</td>\n",
       "      <td>a strength: 20;a weakness: 60;average: 20;a st...</td>\n",
       "      <td>a strength: 10;a weakness: 50;average: 40;a st...</td>\n",
       "      <td>Baby Boomers: 0;Gen X: 5;Gen Z: 75;Millennials...</td>\n",
       "      <td>Mystery: 50;Science Fiction/Fantasy: 50;Scienc...</td>\n",
       "      <td>Savory: 34;Spicy: 33;Sweet: 33;Sweet</td>\n",
       "      <td>No: 75;Yes: 25;Yes</td>\n",
       "    </tr>\n",
       "    <tr>\n",
       "      <th>10</th>\n",
       "      <td>pkenc</td>\n",
       "      <td>Comfortable  : 65;Neither comfortable nor unco...</td>\n",
       "      <td>Agree: 98;Disagree: 0;Neither agree nor disagr...</td>\n",
       "      <td>Comfortable: 90;Neither comfortable nor uncomf...</td>\n",
       "      <td>Agree: 98;Disagree: 0;Neither agree nor disagr...</td>\n",
       "      <td>Agree: 100;Disagree: 0;Neither agree nor disag...</td>\n",
       "      <td>Agree: 0;Disagree: 100;Neither agree nor disag...</td>\n",
       "      <td>Agree: 100;Disagree: 0;Neither agree nor disag...</td>\n",
       "      <td>a strength: 100;a weakness: 0;average: 0;a wea...</td>\n",
       "      <td>a strength: 100;a weakness: 0;average: 0;a wea...</td>\n",
       "      <td>Baby Boomers: 0;Gen X: 100;Gen Z: 0;Millennial...</td>\n",
       "      <td>Mystery: 0;Science Fiction/Fantasy: 100;Scienc...</td>\n",
       "      <td>Savory: 50;Spicy: 30;Sweet: 20;Spicy</td>\n",
       "      <td>No: 0;Yes: 100;Yes</td>\n",
       "    </tr>\n",
       "    <tr>\n",
       "      <th>11</th>\n",
       "      <td>jodaha</td>\n",
       "      <td>Comfortable  : 40;Neither comfortable nor unco...</td>\n",
       "      <td>Agree: 65;Disagree: 15;Neither agree nor disag...</td>\n",
       "      <td>Comfortable: 40;Neither comfortable nor uncomf...</td>\n",
       "      <td>Agree: 70;Disagree: 10;Neither agree nor disag...</td>\n",
       "      <td>Agree: 25;Disagree: 25;Neither agree nor disag...</td>\n",
       "      <td>Agree: 15;Disagree: 50;Neither agree nor disag...</td>\n",
       "      <td>Agree: 40;Disagree: 30;Neither agree nor disag...</td>\n",
       "      <td>a strength: 25;a weakness: 40;average: 35;a st...</td>\n",
       "      <td>a strength: 30;a weakness: 30;average: 40;a st...</td>\n",
       "      <td>Baby Boomers: 15;Gen X: 25;Gen Z: 20;Millennia...</td>\n",
       "      <td>Mystery: 50;Science Fiction/Fantasy: 50;Mystery</td>\n",
       "      <td>Savory: 35;Spicy: 30;Sweet: 35;Savory</td>\n",
       "      <td>No: 70;Yes: 30;No</td>\n",
       "    </tr>\n",
       "    <tr>\n",
       "      <th>12</th>\n",
       "      <td>Rexubera</td>\n",
       "      <td>Comfortable  : 30;Neither comfortable nor unco...</td>\n",
       "      <td>Agree: 88;Disagree: 12;Neither agree nor disag...</td>\n",
       "      <td>Comfortable: 39;Neither comfortable nor uncomf...</td>\n",
       "      <td>Agree: 66;Disagree: 34;Neither agree nor disag...</td>\n",
       "      <td>Agree: 85;Disagree: 15;Neither agree nor disag...</td>\n",
       "      <td>Agree: 0;Disagree: 62;Neither agree nor disagr...</td>\n",
       "      <td>Agree: 62;Disagree: 38;Neither agree nor disag...</td>\n",
       "      <td>a strength: 36;a weakness: 14;average: 50;a st...</td>\n",
       "      <td>a strength: 77;a weakness: 23;average: 0;a str...</td>\n",
       "      <td>Baby Boomers: 0;Gen X: 0;Gen Z: 0;Millennials ...</td>\n",
       "      <td>Mystery: 18;Science Fiction/Fantasy: 82;Scienc...</td>\n",
       "      <td>Savory: 34;Spicy: 16;Sweet: 50;Savory</td>\n",
       "      <td>No: 60;Yes: 40;Yes</td>\n",
       "    </tr>\n",
       "    <tr>\n",
       "      <th>13</th>\n",
       "      <td>bdclow</td>\n",
       "      <td>Comfortable  : 38;Neither comfortable nor unco...</td>\n",
       "      <td>Agree: 94;Disagree: 0;Neither agree nor disagr...</td>\n",
       "      <td>Comfortable: 63;Neither comfortable nor uncomf...</td>\n",
       "      <td>Agree: 26;Disagree: 70;Neither agree nor disag...</td>\n",
       "      <td>Agree: 64;Disagree: 26;Neither agree nor disag...</td>\n",
       "      <td>Agree: 14;Disagree: 65;Neither agree nor disag...</td>\n",
       "      <td>Agree: 65;Disagree: 26;Neither agree nor disag...</td>\n",
       "      <td>a strength: 13;a weakness: 50;average: 37;a we...</td>\n",
       "      <td>a strength: 50;a weakness: 21;average: 29;a st...</td>\n",
       "      <td>Baby Boomers: 0;Gen X: 14;Gen Z: 31;Millennial...</td>\n",
       "      <td>Mystery: 50;Science Fiction/Fantasy: 50;Scienc...</td>\n",
       "      <td>Savory: 22;Spicy: 50;Sweet: 28;Spicy</td>\n",
       "      <td>No: 50;Yes: 50;Yes</td>\n",
       "    </tr>\n",
       "    <tr>\n",
       "      <th>14</th>\n",
       "      <td>buffythevampireslayer</td>\n",
       "      <td>Comfortable  : 35;Neither comfortable nor unco...</td>\n",
       "      <td>Agree: 100;Disagree: 0;Neither agree nor disag...</td>\n",
       "      <td>Comfortable: 52;Neither comfortable nor uncomf...</td>\n",
       "      <td>Agree: 100;Disagree: 0;Neither agree nor disag...</td>\n",
       "      <td>Agree: 30;Disagree: 36;Neither agree nor disag...</td>\n",
       "      <td>Agree: 0;Disagree: 100;Neither agree nor disag...</td>\n",
       "      <td>Agree: 50;Disagree: 50;Neither agree nor disag...</td>\n",
       "      <td>a strength: 35;a weakness: 21;average: 44;average</td>\n",
       "      <td>a strength: 45;a weakness: 17;average: 38;a st...</td>\n",
       "      <td>Baby Boomers: 13;Gen X: 27;Gen Z: 17;Millennia...</td>\n",
       "      <td>Mystery: 50;Science Fiction/Fantasy: 50;Scienc...</td>\n",
       "      <td>Savory: 49;Spicy: 8;Sweet: 43;Sweet</td>\n",
       "      <td>No: 50;Yes: 50;Yes</td>\n",
       "    </tr>\n",
       "    <tr>\n",
       "      <th>15</th>\n",
       "      <td>hungrysquirrel</td>\n",
       "      <td>Comfortable  : 20;Neither comfortable nor unco...</td>\n",
       "      <td>Agree: 75;Disagree: 3;Neither agree nor disagr...</td>\n",
       "      <td>Comfortable: 40;Neither comfortable nor uncomf...</td>\n",
       "      <td>Agree: 75;Disagree: 20;Neither agree nor disag...</td>\n",
       "      <td>Agree: 50;Disagree: 40;Neither agree nor disag...</td>\n",
       "      <td>Agree: 25;Disagree: 65;Neither agree nor disag...</td>\n",
       "      <td>Agree: 25;Disagree: 50;Neither agree nor disag...</td>\n",
       "      <td>a strength: 20;a weakness: 30;average: 50;average</td>\n",
       "      <td>a strength: 30;a weakness: 40;average: 30;a st...</td>\n",
       "      <td>Baby Boomers: 5;Gen X: 2;Gen Z: 3;Millennials ...</td>\n",
       "      <td>Mystery: 50;Science Fiction/Fantasy: 50;Scienc...</td>\n",
       "      <td>Savory: 30;Spicy: 30;Sweet: 40;Spicy</td>\n",
       "      <td>No: 80;Yes: 20;No</td>\n",
       "    </tr>\n",
       "    <tr>\n",
       "      <th>16</th>\n",
       "      <td>tps0329</td>\n",
       "      <td>Comfortable  : 50;Neither comfortable nor unco...</td>\n",
       "      <td>Agree: 100;Disagree: 0;Neither agree nor disag...</td>\n",
       "      <td>Comfortable: 48;Neither comfortable nor uncomf...</td>\n",
       "      <td>Agree: 100;Disagree: 0;Neither agree nor disag...</td>\n",
       "      <td>Agree: 100;Disagree: 0;Neither agree nor disag...</td>\n",
       "      <td>Agree: 0;Disagree: 100;Neither agree nor disag...</td>\n",
       "      <td>Agree: 100;Disagree: 0;Neither agree nor disag...</td>\n",
       "      <td>a strength: 0;a weakness: 37;average: 63;average</td>\n",
       "      <td>a strength: 0;a weakness: 43;average: 57;average</td>\n",
       "      <td>Baby Boomers: 0;Gen X: 0;Gen Z: 0;Millennials ...</td>\n",
       "      <td>Mystery: 0;Science Fiction/Fantasy: 100;Scienc...</td>\n",
       "      <td>Savory: 0;Spicy: 0;Sweet: 100;Sweet</td>\n",
       "      <td>No: 0;Yes: 100;Yes</td>\n",
       "    </tr>\n",
       "    <tr>\n",
       "      <th>17</th>\n",
       "      <td>joker</td>\n",
       "      <td>Comfortable  : 40;Neither comfortable nor unco...</td>\n",
       "      <td>Agree: 78;Disagree: 5;Neither agree nor disagr...</td>\n",
       "      <td>Comfortable: 41;Neither comfortable nor uncomf...</td>\n",
       "      <td>Agree: 57;Disagree: 19;Neither agree nor disag...</td>\n",
       "      <td>Agree: 56;Disagree: 5;Neither agree nor disagr...</td>\n",
       "      <td>Agree: 36;Disagree: 24;Neither agree nor disag...</td>\n",
       "      <td>Agree: 53;Disagree: 31;Neither agree nor disag...</td>\n",
       "      <td>a strength: 41;a weakness: 24;average: 35;a st...</td>\n",
       "      <td>a strength: 32;a weakness: 16;average: 52;a we...</td>\n",
       "      <td>Baby Boomers: 21;Gen X: 17;Gen Z: 7;Millennial...</td>\n",
       "      <td>Mystery: 33;Science Fiction/Fantasy: 67;Mystery</td>\n",
       "      <td>Savory: 18;Spicy: 33;Sweet: 49;Savory</td>\n",
       "      <td>No: 39;Yes: 61;Yes</td>\n",
       "    </tr>\n",
       "    <tr>\n",
       "      <th>18</th>\n",
       "      <td>kores1003</td>\n",
       "      <td>Comfortable  : 46;Neither comfortable nor unco...</td>\n",
       "      <td>Agree: 0;Disagree: 100;Neither agree nor disag...</td>\n",
       "      <td>Comfortable: 56;Neither comfortable nor uncomf...</td>\n",
       "      <td>Agree: 0;Disagree: 100;Neither agree nor disag...</td>\n",
       "      <td>Agree: 30;Disagree: 50;Neither agree nor disag...</td>\n",
       "      <td>Agree: 50;Disagree: 0;Neither agree nor disagr...</td>\n",
       "      <td>Agree: 100;Disagree: 0;Neither agree nor disag...</td>\n",
       "      <td>a strength: 67;a weakness: 33;average: 0;a str...</td>\n",
       "      <td>a strength: 100;a weakness: 0;average: 0;a str...</td>\n",
       "      <td>Baby Boomers: 0;Gen X: 0;Gen Z: 0;Millennials ...</td>\n",
       "      <td>Mystery: 61;Science Fiction/Fantasy: 39;Scienc...</td>\n",
       "      <td>Savory: 0;Spicy: 100;Sweet: 0;Spicy</td>\n",
       "      <td>No: 77;Yes: 23;Yes</td>\n",
       "    </tr>\n",
       "    <tr>\n",
       "      <th>19</th>\n",
       "      <td>bluey</td>\n",
       "      <td>Comfortable  : 67;Neither comfortable nor unco...</td>\n",
       "      <td>Agree: 75;Disagree: 21;Neither agree nor disag...</td>\n",
       "      <td>Comfortable: 37;Neither comfortable nor uncomf...</td>\n",
       "      <td>Agree: 64;Disagree: 25;Neither agree nor disag...</td>\n",
       "      <td>Agree: 33;Disagree: 40;Neither agree nor disag...</td>\n",
       "      <td>Agree: 26;Disagree: 58;Neither agree nor disag...</td>\n",
       "      <td>Agree: 74;Disagree: 11;Neither agree nor disag...</td>\n",
       "      <td>a strength: 33;a weakness: 65;average: 2;a str...</td>\n",
       "      <td>a strength: 31;a weakness: 28;average: 41;a st...</td>\n",
       "      <td>Baby Boomers: 1;Gen X: 51;Gen Z: 9;Millennials...</td>\n",
       "      <td>Mystery: 25;Science Fiction/Fantasy: 75;Scienc...</td>\n",
       "      <td>Savory: 22;Spicy: 24;Sweet: 54;Spicy</td>\n",
       "      <td>No: 29;Yes: 71;Yes</td>\n",
       "    </tr>\n",
       "    <tr>\n",
       "      <th>20</th>\n",
       "      <td>allcheese2</td>\n",
       "      <td>Comfortable  : 23;Neither comfortable nor unco...</td>\n",
       "      <td>Agree: 91;Disagree: 0;Neither agree nor disagr...</td>\n",
       "      <td>Comfortable: 69;Neither comfortable nor uncomf...</td>\n",
       "      <td>Agree: 86;Disagree: 14;Neither agree nor disag...</td>\n",
       "      <td>Agree: 90;Disagree: 0;Neither agree nor disagr...</td>\n",
       "      <td>Agree: 0;Disagree: 100;Neither agree nor disag...</td>\n",
       "      <td>Agree: 77;Disagree: 12;Neither agree nor disag...</td>\n",
       "      <td>a strength: 0;a weakness: 31;average: 69;average</td>\n",
       "      <td>a strength: 26;a weakness: 0;average: 74;average</td>\n",
       "      <td>Baby Boomers: 0;Gen X: 0;Gen Z: 38;Millennials...</td>\n",
       "      <td>Mystery: 59;Science Fiction/Fantasy: 41;Mystery</td>\n",
       "      <td>Savory: 31;Spicy: 69;Sweet: 0;Spicy</td>\n",
       "      <td>No: 40;Yes: 60;Yes</td>\n",
       "    </tr>\n",
       "    <tr>\n",
       "      <th>21</th>\n",
       "      <td>mads_life</td>\n",
       "      <td>Comfortable  : 35;Neither comfortable nor unco...</td>\n",
       "      <td>Agree: 85;Disagree: 0;Neither agree nor disagr...</td>\n",
       "      <td>Comfortable: 15;Neither comfortable nor uncomf...</td>\n",
       "      <td>Agree: 20;Disagree: 15;Neither agree nor disag...</td>\n",
       "      <td>Agree: 80;Disagree: 5;Neither agree nor disagr...</td>\n",
       "      <td>Agree: 0;Disagree: 95;Neither agree nor disagr...</td>\n",
       "      <td>Agree: 85;Disagree: 10;Neither agree nor disag...</td>\n",
       "      <td>a strength: 85;a weakness: 0;average: 15;a str...</td>\n",
       "      <td>a strength: 75;a weakness: 10;average: 15;a st...</td>\n",
       "      <td>Baby Boomers: 3;Gen X: 82;Gen Z: 2;Millennials...</td>\n",
       "      <td>Mystery: 50;Science Fiction/Fantasy: 50;Scienc...</td>\n",
       "      <td>Savory: 25;Spicy: 50;Sweet: 25;Spicy</td>\n",
       "      <td>No: 25;Yes: 75;No</td>\n",
       "    </tr>\n",
       "    <tr>\n",
       "      <th>22</th>\n",
       "      <td>ILTKY2021</td>\n",
       "      <td>Comfortable  : 50;Neither comfortable nor unco...</td>\n",
       "      <td>Agree: 90;Disagree: 0;Neither agree nor disagr...</td>\n",
       "      <td>Comfortable: 40;Neither comfortable nor uncomf...</td>\n",
       "      <td>Agree: 80;Disagree: 5;Neither agree nor disagr...</td>\n",
       "      <td>Agree: 0;Disagree: 90;Neither agree nor disagr...</td>\n",
       "      <td>Agree: 10;Disagree: 70;Neither agree nor disag...</td>\n",
       "      <td>Agree: 85;Disagree: 10;Neither agree nor disag...</td>\n",
       "      <td>a strength: 40;a weakness: 10;average: 50;a we...</td>\n",
       "      <td>a strength: 30;a weakness: 20;average: 50;a we...</td>\n",
       "      <td>Baby Boomers: 5;Gen X: 10;Gen Z: 55;Millennial...</td>\n",
       "      <td>Mystery: 20;Science Fiction/Fantasy: 80;Scienc...</td>\n",
       "      <td>Savory: 45;Spicy: 10;Sweet: 45;Savory</td>\n",
       "      <td>No: 20;Yes: 80;Yes</td>\n",
       "    </tr>\n",
       "    <tr>\n",
       "      <th>23</th>\n",
       "      <td>shaylenhira</td>\n",
       "      <td>Comfortable  : 80;Neither comfortable nor unco...</td>\n",
       "      <td>Agree: 95;Disagree: 0;Neither agree nor disagr...</td>\n",
       "      <td>Comfortable: 70;Neither comfortable nor uncomf...</td>\n",
       "      <td>Agree: 95;Disagree: 5;Neither agree nor disagr...</td>\n",
       "      <td>Agree: 70;Disagree: 10;Neither agree nor disag...</td>\n",
       "      <td>Agree: 20;Disagree: 30;Neither agree nor disag...</td>\n",
       "      <td>Agree: 70;Disagree: 20;Neither agree nor disag...</td>\n",
       "      <td>a strength: 40;a weakness: 10;average: 50;average</td>\n",
       "      <td>a strength: 70;a weakness: 20;average: 10;a st...</td>\n",
       "      <td>Baby Boomers: 5;Gen X: 25;Gen Z: 30;Millennial...</td>\n",
       "      <td>Mystery: 65;Science Fiction/Fantasy: 35;Mystery</td>\n",
       "      <td>Savory: 40;Spicy: 30;Sweet: 30;Spicy</td>\n",
       "      <td>No: 75;Yes: 25;Yes</td>\n",
       "    </tr>\n",
       "    <tr>\n",
       "      <th>24</th>\n",
       "      <td>ujo002</td>\n",
       "      <td>Comfortable  : 65;Neither comfortable nor unco...</td>\n",
       "      <td>Agree: 90;Disagree: 8;Neither agree nor disagr...</td>\n",
       "      <td>Comfortable: 30;Neither comfortable nor uncomf...</td>\n",
       "      <td>Agree: 74;Disagree: 20;Neither agree nor disag...</td>\n",
       "      <td>Agree: 30;Disagree: 20;Neither agree nor disag...</td>\n",
       "      <td>Agree: 30;Disagree: 65;Neither agree nor disag...</td>\n",
       "      <td>Agree: 60;Disagree: 35;Neither agree nor disag...</td>\n",
       "      <td>a strength: 10;a weakness: 30;average: 60;average</td>\n",
       "      <td>a strength: 40;a weakness: 35;average: 25;a we...</td>\n",
       "      <td>Baby Boomers: 2;Gen X: 25;Gen Z: 5;Millennials...</td>\n",
       "      <td>Mystery: 40;Science Fiction/Fantasy: 60;Mystery</td>\n",
       "      <td>Savory: 45;Spicy: 15;Sweet: 40;Savory</td>\n",
       "      <td>No: 35;Yes: 65;No</td>\n",
       "    </tr>\n",
       "    <tr>\n",
       "      <th>25</th>\n",
       "      <td>rdk</td>\n",
       "      <td>Comfortable  : 100;Neither comfortable nor unc...</td>\n",
       "      <td>Agree: 26;Disagree: 24;Neither agree nor disag...</td>\n",
       "      <td>Comfortable: 42;Neither comfortable nor uncomf...</td>\n",
       "      <td>Agree: 50;Disagree: 23;Neither agree nor disag...</td>\n",
       "      <td>Agree: 0;Disagree: 100;Neither agree nor disag...</td>\n",
       "      <td>Agree: 0;Disagree: 100;Neither agree nor disag...</td>\n",
       "      <td>Agree: 50;Disagree: 22;Neither agree nor disag...</td>\n",
       "      <td>a strength: 46;a weakness: 1;average: 53;a str...</td>\n",
       "      <td>a strength: 12;a weakness: 63;average: 25;a st...</td>\n",
       "      <td>Baby Boomers: 0;Gen X: 49;Gen Z: 0;Millennials...</td>\n",
       "      <td>Mystery: 38;Science Fiction/Fantasy: 62;Scienc...</td>\n",
       "      <td>Savory: 53;Spicy: 15;Sweet: 32;Savory</td>\n",
       "      <td>No: 77;Yes: 23;No</td>\n",
       "    </tr>\n",
       "    <tr>\n",
       "      <th>26</th>\n",
       "      <td>kbob2990</td>\n",
       "      <td>Comfortable  : 100;Neither comfortable nor unc...</td>\n",
       "      <td>Agree: 100;Disagree: 0;Neither agree nor disag...</td>\n",
       "      <td>Comfortable: 64;Neither comfortable nor uncomf...</td>\n",
       "      <td>Agree: 100;Disagree: 0;Neither agree nor disag...</td>\n",
       "      <td>Agree: 100;Disagree: 0;Neither agree nor disag...</td>\n",
       "      <td>Agree: 0;Disagree: 100;Neither agree nor disag...</td>\n",
       "      <td>Agree: 50;Disagree: 25;Neither agree nor disag...</td>\n",
       "      <td>a strength: 0;a weakness: 52;average: 48;a wea...</td>\n",
       "      <td>a strength: 56;a weakness: 44;average: 0;a str...</td>\n",
       "      <td>Baby Boomers: 0;Gen X: 37;Gen Z: 1;Millennials...</td>\n",
       "      <td>Mystery: 50;Science Fiction/Fantasy: 50;Scienc...</td>\n",
       "      <td>Savory: 53;Spicy: 0;Sweet: 47;Savory</td>\n",
       "      <td>No: 50;Yes: 50;Yes</td>\n",
       "    </tr>\n",
       "    <tr>\n",
       "      <th>27</th>\n",
       "      <td>mads1234</td>\n",
       "      <td>Comfortable  : 60;Neither comfortable nor unco...</td>\n",
       "      <td>Agree: 95;Disagree: 0;Neither agree nor disagr...</td>\n",
       "      <td>Comfortable: 60;Neither comfortable nor uncomf...</td>\n",
       "      <td>Agree: 74;Disagree: 20;Neither agree nor disag...</td>\n",
       "      <td>Agree: 80;Disagree: 0;Neither agree nor disagr...</td>\n",
       "      <td>Agree: 19;Disagree: 76;Neither agree nor disag...</td>\n",
       "      <td>Agree: 38;Disagree: 31;Neither agree nor disag...</td>\n",
       "      <td>a strength: 40;a weakness: 34;average: 26;a st...</td>\n",
       "      <td>a strength: 15;a weakness: 18;average: 67;average</td>\n",
       "      <td>Baby Boomers: 7;Gen X: 0;Gen Z: 33;Millennials...</td>\n",
       "      <td>Mystery: 50;Science Fiction/Fantasy: 50;Scienc...</td>\n",
       "      <td>Savory: 14;Spicy: 31;Sweet: 55;Sweet</td>\n",
       "      <td>No: 56;Yes: 44;No</td>\n",
       "    </tr>\n",
       "    <tr>\n",
       "      <th>28</th>\n",
       "      <td>skyyoung12</td>\n",
       "      <td>Comfortable  : 85;Neither comfortable nor unco...</td>\n",
       "      <td>Agree: 99;Disagree: 0;Neither agree nor disagr...</td>\n",
       "      <td>Comfortable: 81;Neither comfortable nor uncomf...</td>\n",
       "      <td>Agree: 96;Disagree: 4;Neither agree nor disagr...</td>\n",
       "      <td>Agree: 90;Disagree: 0;Neither agree nor disagr...</td>\n",
       "      <td>Agree: 4;Disagree: 89;Neither agree nor disagr...</td>\n",
       "      <td>Agree: 2;Disagree: 0;Neither agree nor disagre...</td>\n",
       "      <td>a strength: 0;a weakness: 8;average: 92;average</td>\n",
       "      <td>a strength: 98;a weakness: 0;average: 2;a stre...</td>\n",
       "      <td>Baby Boomers: 0;Gen X: 0;Gen Z: 15;Millennials...</td>\n",
       "      <td>Mystery: 50;Science Fiction/Fantasy: 50;Mystery</td>\n",
       "      <td>Savory: 8;Spicy: 0;Sweet: 92;Sweet</td>\n",
       "      <td>No: 0;Yes: 100;Yes</td>\n",
       "    </tr>\n",
       "    <tr>\n",
       "      <th>29</th>\n",
       "      <td>scubasteve</td>\n",
       "      <td>Comfortable  : 75;Neither comfortable nor unco...</td>\n",
       "      <td>Agree: 96;Disagree: 0;Neither agree nor disagr...</td>\n",
       "      <td>Comfortable: 50;Neither comfortable nor uncomf...</td>\n",
       "      <td>Agree: 95;Disagree: 0;Neither agree nor disagr...</td>\n",
       "      <td>Agree: 60;Disagree: 10;Neither agree nor disag...</td>\n",
       "      <td>Agree: 5;Disagree: 95;Neither agree nor disagr...</td>\n",
       "      <td>Agree: 75;Disagree: 25;Neither agree nor disag...</td>\n",
       "      <td>a strength: 42;a weakness: 25;average: 33;a we...</td>\n",
       "      <td>a strength: 40;a weakness: 35;average: 25;a st...</td>\n",
       "      <td>Baby Boomers: 6;Gen X: 27;Gen Z: 27;Millennial...</td>\n",
       "      <td>Mystery: 49;Science Fiction/Fantasy: 51;Scienc...</td>\n",
       "      <td>Savory: 26;Spicy: 29;Sweet: 45;Sweet</td>\n",
       "      <td>No: 20;Yes: 80;Yes</td>\n",
       "    </tr>\n",
       "    <tr>\n",
       "      <th>30</th>\n",
       "      <td>matchallison</td>\n",
       "      <td>Comfortable  : 70;Neither comfortable nor unco...</td>\n",
       "      <td>Agree: 80;Disagree: 0;Neither agree nor disagr...</td>\n",
       "      <td>Comfortable: 0;Neither comfortable nor uncomfo...</td>\n",
       "      <td>Agree: 90;Disagree: 0;Neither agree nor disagr...</td>\n",
       "      <td>Agree: 50;Disagree: 0;Neither agree nor disagr...</td>\n",
       "      <td>Agree: 30;Disagree: 70;Neither agree nor disag...</td>\n",
       "      <td>Agree: 90;Disagree: 0;Neither agree nor disagr...</td>\n",
       "      <td>a strength: 10;a weakness: 50;average: 40;average</td>\n",
       "      <td>a strength: 0;a weakness: 40;average: 60;average</td>\n",
       "      <td>Baby Boomers: 0;Gen X: 50;Gen Z: 10;Millennial...</td>\n",
       "      <td>Mystery: 55;Science Fiction/Fantasy: 45;Mystery</td>\n",
       "      <td>Savory: 60;Spicy: 0;Sweet: 40;Savory</td>\n",
       "      <td>No: 40;Yes: 60;Yes</td>\n",
       "    </tr>\n",
       "    <tr>\n",
       "      <th>31</th>\n",
       "      <td>LeiaSkywalker</td>\n",
       "      <td>Comfortable  : 30;Neither comfortable nor unco...</td>\n",
       "      <td>Agree: 80;Disagree: 10;Neither agree nor disag...</td>\n",
       "      <td>Comfortable: 65;Neither comfortable nor uncomf...</td>\n",
       "      <td>Agree: 16;Disagree: 21;Neither agree nor disag...</td>\n",
       "      <td>Agree: 50;Disagree: 35;Neither agree nor disag...</td>\n",
       "      <td>Agree: 38;Disagree: 62;Neither agree nor disag...</td>\n",
       "      <td>Agree: 64;Disagree: 24;Neither agree nor disag...</td>\n",
       "      <td>a strength: 44;a weakness: 50;average: 6;a str...</td>\n",
       "      <td>a strength: 30;a weakness: 50;average: 20;a st...</td>\n",
       "      <td>Baby Boomers: 0;Gen X: 50;Gen Z: 9;Millennials...</td>\n",
       "      <td>Mystery: 50;Science Fiction/Fantasy: 50;Mystery</td>\n",
       "      <td>Savory: 42;Spicy: 8;Sweet: 50;Savory</td>\n",
       "      <td>No: 50;Yes: 50;Yes</td>\n",
       "    </tr>\n",
       "    <tr>\n",
       "      <th>32</th>\n",
       "      <td>mkibria</td>\n",
       "      <td>Comfortable  : 22;Neither comfortable nor unco...</td>\n",
       "      <td>Agree: 100;Disagree: 0;Neither agree nor disag...</td>\n",
       "      <td>Comfortable: 30;Neither comfortable nor uncomf...</td>\n",
       "      <td>Agree: 31;Disagree: 50;Neither agree nor disag...</td>\n",
       "      <td>Agree: 55;Disagree: 9;Neither agree nor disagr...</td>\n",
       "      <td>Agree: 0;Disagree: 87;Neither agree nor disagr...</td>\n",
       "      <td>Agree: 88;Disagree: 0;Neither agree nor disagr...</td>\n",
       "      <td>a strength: 58;a weakness: 42;average: 0;a str...</td>\n",
       "      <td>a strength: 40;a weakness: 60;average: 0;a wea...</td>\n",
       "      <td>Baby Boomers: 0;Gen X: 86;Gen Z: 0;Millennials...</td>\n",
       "      <td>Mystery: 50;Science Fiction/Fantasy: 50;Scienc...</td>\n",
       "      <td>Savory: 0;Spicy: 30;Sweet: 70;Sweet</td>\n",
       "      <td>No: 50;Yes: 50;Yes</td>\n",
       "    </tr>\n",
       "    <tr>\n",
       "      <th>33</th>\n",
       "      <td>bikeproform</td>\n",
       "      <td>Comfortable  : 63;Neither comfortable nor unco...</td>\n",
       "      <td>Agree: 91;Disagree: 2;Neither agree nor disagr...</td>\n",
       "      <td>Comfortable: 60;Neither comfortable nor uncomf...</td>\n",
       "      <td>Agree: 79;Disagree: 6;Neither agree nor disagr...</td>\n",
       "      <td>Agree: 38;Disagree: 16;Neither agree nor disag...</td>\n",
       "      <td>Agree: 8;Disagree: 72;Neither agree nor disagr...</td>\n",
       "      <td>Agree: 55;Disagree: 22;Neither agree nor disag...</td>\n",
       "      <td>a strength: 16;a weakness: 15;average: 69;average</td>\n",
       "      <td>a strength: 46;a weakness: 19;average: 35;average</td>\n",
       "      <td>Baby Boomers: 18;Gen X: 31;Gen Z: 11;Millennia...</td>\n",
       "      <td>Mystery: 50;Science Fiction/Fantasy: 50;Mystery</td>\n",
       "      <td>Savory: 45;Spicy: 20;Sweet: 35;Savory</td>\n",
       "      <td>No: 50;Yes: 50;Yes</td>\n",
       "    </tr>\n",
       "    <tr>\n",
       "      <th>34</th>\n",
       "      <td>twrdzdatAsciends</td>\n",
       "      <td>Comfortable  : 23;Neither comfortable nor unco...</td>\n",
       "      <td>Agree: 63;Disagree: 7;Neither agree nor disagr...</td>\n",
       "      <td>Comfortable: 24;Neither comfortable nor uncomf...</td>\n",
       "      <td>Agree: 59;Disagree: 14;Neither agree nor disag...</td>\n",
       "      <td>Agree: 25;Disagree: 24;Neither agree nor disag...</td>\n",
       "      <td>Agree: 0;Disagree: 100;Neither agree nor disag...</td>\n",
       "      <td>Agree: 60;Disagree: 13;Neither agree nor disag...</td>\n",
       "      <td>a strength: 33;a weakness: 34;average: 33;average</td>\n",
       "      <td>a strength: 38;a weakness: 8;average: 54;average</td>\n",
       "      <td>Baby Boomers: 15;Gen X: 33;Gen Z: 16;Millennia...</td>\n",
       "      <td>Mystery: 77;Science Fiction/Fantasy: 23;Mystery</td>\n",
       "      <td>Savory: 37;Spicy: 9;Sweet: 54;Spicy</td>\n",
       "      <td>No: 57;Yes: 43;Yes</td>\n",
       "    </tr>\n",
       "    <tr>\n",
       "      <th>35</th>\n",
       "      <td>c_</td>\n",
       "      <td>Comfortable  : 73;Neither comfortable nor unco...</td>\n",
       "      <td>Agree: 100;Disagree: 0;Neither agree nor disag...</td>\n",
       "      <td>Comfortable: 69;Neither comfortable nor uncomf...</td>\n",
       "      <td>Agree: 91;Disagree: 0;Neither agree nor disagr...</td>\n",
       "      <td>Agree: 73;Disagree: 27;Neither agree nor disag...</td>\n",
       "      <td>Agree: 19;Disagree: 60;Neither agree nor disag...</td>\n",
       "      <td>Agree: 74;Disagree: 21;Neither agree nor disag...</td>\n",
       "      <td>a strength: 66;a weakness: 13;average: 21;a we...</td>\n",
       "      <td>a strength: 50;a weakness: 35;average: 15;a st...</td>\n",
       "      <td>Baby Boomers: 0;Gen X: 25;Gen Z: 25;Millennial...</td>\n",
       "      <td>Mystery: 50;Science Fiction/Fantasy: 50;Scienc...</td>\n",
       "      <td>Savory: 30;Spicy: 46;Sweet: 24;Spicy</td>\n",
       "      <td>No: 50;Yes: 50;Yes</td>\n",
       "    </tr>\n",
       "    <tr>\n",
       "      <th>36</th>\n",
       "      <td>asdfasdf</td>\n",
       "      <td>Comfortable  : 34;Neither comfortable nor unco...</td>\n",
       "      <td>Agree: 99;Disagree: 0;Neither agree nor disagr...</td>\n",
       "      <td>Comfortable: 33;Neither comfortable nor uncomf...</td>\n",
       "      <td>Agree: 90;Disagree: 4;Neither agree nor disagr...</td>\n",
       "      <td>Agree: 47;Disagree: 13;Neither agree nor disag...</td>\n",
       "      <td>Agree: 9;Disagree: 79;Neither agree nor disagr...</td>\n",
       "      <td>Agree: 71;Disagree: 17;Neither agree nor disag...</td>\n",
       "      <td>a strength: 19;a weakness: 30;average: 51;average</td>\n",
       "      <td>a strength: 25;a weakness: 11;average: 64;a st...</td>\n",
       "      <td>Baby Boomers: 12;Gen X: 49;Gen Z: 3;Millennial...</td>\n",
       "      <td>Mystery: 43;Science Fiction/Fantasy: 57;Scienc...</td>\n",
       "      <td>Savory: 38;Spicy: 27;Sweet: 35;Savory</td>\n",
       "      <td>No: 56;Yes: 44;Yes</td>\n",
       "    </tr>\n",
       "    <tr>\n",
       "      <th>37</th>\n",
       "      <td>2fSzNsDVC6oM0uf</td>\n",
       "      <td>Comfortable  : 81;Neither comfortable nor unco...</td>\n",
       "      <td>Agree: 100;Disagree: 0;Neither agree nor disag...</td>\n",
       "      <td>Comfortable: 55;Neither comfortable nor uncomf...</td>\n",
       "      <td>Agree: 50;Disagree: 0;Neither agree nor disagr...</td>\n",
       "      <td>Agree: 100;Disagree: 0;Neither agree nor disag...</td>\n",
       "      <td>Agree: 15;Disagree: 50;Neither agree nor disag...</td>\n",
       "      <td>Agree: 60;Disagree: 20;Neither agree nor disag...</td>\n",
       "      <td>a strength: 0;a weakness: 35;average: 65;average</td>\n",
       "      <td>a strength: 20;a weakness: 30;average: 50;average</td>\n",
       "      <td>Baby Boomers: 0;Gen X: 25;Gen Z: 5;Millennials...</td>\n",
       "      <td>Mystery: 50;Science Fiction/Fantasy: 50;Mystery</td>\n",
       "      <td>Savory: 50;Spicy: 25;Sweet: 25;Spicy</td>\n",
       "      <td>No: 75;Yes: 25;Yes</td>\n",
       "    </tr>\n",
       "    <tr>\n",
       "      <th>38</th>\n",
       "      <td>darksk8terboi</td>\n",
       "      <td>Comfortable  : 86;Neither comfortable nor unco...</td>\n",
       "      <td>Agree: 100;Disagree: 0;Neither agree nor disag...</td>\n",
       "      <td>Comfortable: 90;Neither comfortable nor uncomf...</td>\n",
       "      <td>Agree: 94;Disagree: 6;Neither agree nor disagr...</td>\n",
       "      <td>Agree: 81;Disagree: 19;Neither agree nor disag...</td>\n",
       "      <td>Agree: 0;Disagree: 100;Neither agree nor disag...</td>\n",
       "      <td>Agree: 100;Disagree: 0;Neither agree nor disag...</td>\n",
       "      <td>a strength: 76;a weakness: 0;average: 24;a str...</td>\n",
       "      <td>a strength: 91;a weakness: 0;average: 9;a stre...</td>\n",
       "      <td>Baby Boomers: 0;Gen X: 0;Gen Z: 85;Millennials...</td>\n",
       "      <td>Mystery: 0;Science Fiction/Fantasy: 100;Scienc...</td>\n",
       "      <td>Savory: 45;Spicy: 30;Sweet: 25;Savory</td>\n",
       "      <td>No: 35;Yes: 65;Yes</td>\n",
       "    </tr>\n",
       "    <tr>\n",
       "      <th>39</th>\n",
       "      <td>goblue2021</td>\n",
       "      <td>Comfortable  : 77;Neither comfortable nor unco...</td>\n",
       "      <td>Agree: 100;Disagree: 0;Neither agree nor disag...</td>\n",
       "      <td>Comfortable: 59;Neither comfortable nor uncomf...</td>\n",
       "      <td>Agree: 74;Disagree: 14;Neither agree nor disag...</td>\n",
       "      <td>Agree: 50;Disagree: 14;Neither agree nor disag...</td>\n",
       "      <td>Agree: 11;Disagree: 81;Neither agree nor disag...</td>\n",
       "      <td>Agree: 89;Disagree: 11;Neither agree nor disag...</td>\n",
       "      <td>a strength: 28;a weakness: 22;average: 50;average</td>\n",
       "      <td>a strength: 16;a weakness: 52;average: 32;average</td>\n",
       "      <td>Baby Boomers: 4;Gen X: 10;Gen Z: 30;Millennial...</td>\n",
       "      <td>Mystery: 50;Science Fiction/Fantasy: 50;Mystery</td>\n",
       "      <td>Savory: 51;Spicy: 18;Sweet: 31;Spicy</td>\n",
       "      <td>No: 89;Yes: 11;Yes</td>\n",
       "    </tr>\n",
       "    <tr>\n",
       "      <th>40</th>\n",
       "      <td>iyeo</td>\n",
       "      <td>Comfortable  : 0;Neither comfortable nor uncom...</td>\n",
       "      <td>Agree: 47;Disagree: 53;Neither agree nor disag...</td>\n",
       "      <td>Comfortable: 42;Neither comfortable nor uncomf...</td>\n",
       "      <td>Agree: 100;Disagree: 0;Neither agree nor disag...</td>\n",
       "      <td>Agree: 9;Disagree: 73;Neither agree nor disagr...</td>\n",
       "      <td>Agree: 37;Disagree: 13;Neither agree nor disag...</td>\n",
       "      <td>Agree: 60;Disagree: 21;Neither agree nor disag...</td>\n",
       "      <td>a strength: 30;a weakness: 17;average: 53;average</td>\n",
       "      <td>a strength: 26;a weakness: 50;average: 24;a we...</td>\n",
       "      <td>Baby Boomers: 5;Gen X: 21;Gen Z: 25;Millennial...</td>\n",
       "      <td>Mystery: 27;Science Fiction/Fantasy: 73;Scienc...</td>\n",
       "      <td>Savory: 52;Spicy: 19;Sweet: 29;Savory</td>\n",
       "      <td>No: 50;Yes: 50;Yes</td>\n",
       "    </tr>\n",
       "  </tbody>\n",
       "</table>\n",
       "</div>"
      ],
      "text/plain": [
       "          username        How comfortable are you with your ability to debug an error in a python script? Doing well at programming tasks will enhance my career/job opportunities. How comfortable are you with your ability to perform data visualization with python? Doing well at data visualization will enhance my career/job opportunities. I believe that my ability to complete programming tasks will increase my self worth. You have a certain amount of “programming intelligence”, and you can’t really do much to change it. The feeling of satisfaction I get when successfully completing a programming task is greater than the feelings of frustration when I have unsolved errors/bugs.           My mathematics background is:                     My data manipulation skills are:             Which generation do you most identify with?           What type of literature do you prefer?       What type of food to you most prefer?  Have you ever visited New York City?\n",
       "0                 Drgnfly  Comfortable  : 64;Neither comfortable nor unco...                               Agree: 46;Disagree: 13;Neither agree nor disag...                         Comfortable: 42;Neither comfortable nor uncomf...                                    Agree: 73;Disagree: 0;Neither agree nor disagr...                          Agree: 42;Disagree: 37;Neither agree nor disag...                                    Agree: 14;Disagree: 70;Neither agree nor disag...                                                   Agree: 46;Disagree: 42;Neither agree nor disag...                                                                                                                a strength: 39;a weakness: 5;average: 56;average  a strength: 45;a weakness: 16;average: 39;average  Baby Boomers: 7;Gen X: 12;Gen Z: 34;Millennial...    Mystery: 44;Science Fiction/Fantasy: 56;Mystery   Savory: 27;Spicy: 35;Sweet: 38;Spicy          No: 59;Yes: 41;Yes         \n",
       "1                Joseline  Comfortable  : 0;Neither comfortable nor uncom...                               Agree: 96;Disagree: 0;Neither agree nor disagr...                         Comfortable: 30;Neither comfortable nor uncomf...                                    Agree: 94;Disagree: 0;Neither agree nor disagr...                          Agree: 51;Disagree: 11;Neither agree nor disag...                                    Agree: 11;Disagree: 84;Neither agree nor disag...                                                   Agree: 91;Disagree: 2;Neither agree nor disagr...                                                                                                               a strength: 7;a weakness: 67;average: 26;a wea...  a strength: 24;a weakness: 34;average: 42;average  Baby Boomers: 4;Gen X: 14;Gen Z: 49;Millennial...  Mystery: 35;Science Fiction/Fantasy: 65;Scienc...  Savory: 31;Spicy: 45;Sweet: 24;Savory          No: 23;Yes: 77;Yes         \n",
       "2                 solopte  Comfortable  : 10;Neither comfortable nor unco...                               Agree: 90;Disagree: 0;Neither agree nor disagr...                         Comfortable: 50;Neither comfortable nor uncomf...                                    Agree: 80;Disagree: 0;Neither agree nor disagr...                          Agree: 20;Disagree: 30;Neither agree nor disag...                                    Agree: 0;Disagree: 80;Neither agree nor disagr...                                                   Agree: 90;Disagree: 0;Neither agree nor disagr...                                                                                                               a strength: 50;a weakness: 0;average: 50;a str...  a strength: 50;a weakness: 0;average: 50;a str...  Baby Boomers: 10;Gen X: 25;Gen Z: 30;Millennia...  Mystery: 50;Science Fiction/Fantasy: 50;Scienc...  Savory: 50;Spicy: 30;Sweet: 20;Savory          No: 80;Yes: 20;Yes         \n",
       "3              521student  Comfortable  : 25;Neither comfortable nor unco...                               Agree: 90;Disagree: 0;Neither agree nor disagr...                         Comfortable: 40;Neither comfortable nor uncomf...                                    Agree: 80;Disagree: 0;Neither agree nor disagr...                          Agree: 50;Disagree: 25;Neither agree nor disag...                                    Agree: 20;Disagree: 60;Neither agree nor disag...                                                   Agree: 75;Disagree: 25;Neither agree nor disag...                                                                                                               a strength: 25;a weakness: 50;average: 25;a we...  a strength: 25;a weakness: 25;average: 50;average  Baby Boomers: 0;Gen X: 20;Gen Z: 40;Millennial...    Mystery: 40;Science Fiction/Fantasy: 60;Mystery  Savory: 30;Spicy: 30;Sweet: 40;Savory          No: 40;Yes: 60;Yes         \n",
       "4                goose456  Comfortable  : 72;Neither comfortable nor unco...                               Agree: 90;Disagree: 0;Neither agree nor disagr...                         Comfortable: 49;Neither comfortable nor uncomf...                                    Agree: 87;Disagree: 0;Neither agree nor disagr...                          Agree: 2;Disagree: 94;Neither agree nor disagr...                                    Agree: 77;Disagree: 9;Neither agree nor disagr...                                                   Agree: 86;Disagree: 8;Neither agree nor disagr...                                                                                                               a strength: 72;a weakness: 12;average: 16;average  a strength: 37;a weakness: 28;average: 35;average  Baby Boomers: 3;Gen X: 45;Gen Z: 2;Millennials...  Mystery: 46;Science Fiction/Fantasy: 54;Scienc...   Savory: 33;Spicy: 31;Sweet: 36;Sweet          No: 40;Yes: 60;Yes         \n",
       "5                  239367  Comfortable  : 86;Neither comfortable nor unco...                               Agree: 75;Disagree: 0;Neither agree nor disagr...                         Comfortable: 76;Neither comfortable nor uncomf...                                    Agree: 81;Disagree: 0;Neither agree nor disagr...                          Agree: 100;Disagree: 0;Neither agree nor disag...                                    Agree: 19;Disagree: 81;Neither agree nor disag...                                                   Agree: 100;Disagree: 0;Neither agree nor disag...                                                                                                                a strength: 67;a weakness: 8;average: 25;average   a strength: 79;a weakness: 21;average: 0;average  Baby Boomers: 0;Gen X: 35;Gen Z: 30;Millennial...    Mystery: 44;Science Fiction/Fantasy: 56;Mystery   Savory: 41;Spicy: 17;Sweet: 42;Spicy          No: 10;Yes: 90;Yes         \n",
       "6                niloused  Comfortable  : 61;Neither comfortable nor unco...                               Agree: 92;Disagree: 0;Neither agree nor disagr...                         Comfortable: 62;Neither comfortable nor uncomf...                                    Agree: 80;Disagree: 16;Neither agree nor disag...                          Agree: 83;Disagree: 8;Neither agree nor disagr...                                    Agree: 4;Disagree: 86;Neither agree nor disagr...                                                   Agree: 76;Disagree: 10;Neither agree nor disag...                                                                                                               a strength: 12;a weakness: 54;average: 34;average   a strength: 39;a weakness: 8;average: 53;average  Baby Boomers: 0;Gen X: 3;Gen Z: 16;Millennials...    Mystery: 50;Science Fiction/Fantasy: 50;Mystery   Savory: 57;Spicy: 27;Sweet: 16;Spicy          No: 39;Yes: 61;Yes         \n",
       "7                   vizzz  Comfortable  : 29;Neither comfortable nor unco...                               Agree: 81;Disagree: 19;Neither agree nor disag...                         Comfortable: 84;Neither comfortable nor uncomf...                                    Agree: 65;Disagree: 35;Neither agree nor disag...                          Agree: 42;Disagree: 19;Neither agree nor disag...                                    Agree: 0;Disagree: 76;Neither agree nor disagr...                                                   Agree: 83;Disagree: 17;Neither agree nor disag...                                                                                                               a strength: 72;a weakness: 28;average: 0;a str...   a strength: 0;a weakness: 34;average: 66;average  Baby Boomers: 0;Gen X: 14;Gen Z: 0;Millennials...    Mystery: 26;Science Fiction/Fantasy: 74;Mystery    Savory: 48;Spicy: 52;Sweet: 0;Spicy          No: 79;Yes: 21;Yes         \n",
       "8           callmebigdata  Comfortable  : 38;Neither comfortable nor unco...                               Agree: 91;Disagree: 9;Neither agree nor disagr...                         Comfortable: 0;Neither comfortable nor uncomfo...                                    Agree: 60;Disagree: 0;Neither agree nor disagr...                          Agree: 32;Disagree: 68;Neither agree nor disag...                                    Agree: 15;Disagree: 85;Neither agree nor disag...                                                   Agree: 79;Disagree: 17;Neither agree nor disag...                                                                                                                a strength: 0;a weakness: 70;average: 30;average   a strength: 0;a weakness: 36;average: 64;average  Baby Boomers: 8;Gen X: 34;Gen Z: 0;Millennials...  Mystery: 30;Science Fiction/Fantasy: 70;Scienc...   Savory: 32;Spicy: 35;Sweet: 33;Sweet          No: 38;Yes: 62;Yes         \n",
       "9                  xyz789  Comfortable  : 50;Neither comfortable nor unco...                               Agree: 100;Disagree: 0;Neither agree nor disag...                         Comfortable: 25;Neither comfortable nor uncomf...                                    Agree: 30;Disagree: 60;Neither agree nor disag...                          Agree: 50;Disagree: 25;Neither agree nor disag...                                    Agree: 10;Disagree: 80;Neither agree nor disag...                                                   Agree: 10;Disagree: 80;Neither agree nor disag...                                                                                                               a strength: 20;a weakness: 60;average: 20;a st...  a strength: 10;a weakness: 50;average: 40;a st...  Baby Boomers: 0;Gen X: 5;Gen Z: 75;Millennials...  Mystery: 50;Science Fiction/Fantasy: 50;Scienc...   Savory: 34;Spicy: 33;Sweet: 33;Sweet          No: 75;Yes: 25;Yes         \n",
       "10                  pkenc  Comfortable  : 65;Neither comfortable nor unco...                               Agree: 98;Disagree: 0;Neither agree nor disagr...                         Comfortable: 90;Neither comfortable nor uncomf...                                    Agree: 98;Disagree: 0;Neither agree nor disagr...                          Agree: 100;Disagree: 0;Neither agree nor disag...                                    Agree: 0;Disagree: 100;Neither agree nor disag...                                                   Agree: 100;Disagree: 0;Neither agree nor disag...                                                                                                               a strength: 100;a weakness: 0;average: 0;a wea...  a strength: 100;a weakness: 0;average: 0;a wea...  Baby Boomers: 0;Gen X: 100;Gen Z: 0;Millennial...  Mystery: 0;Science Fiction/Fantasy: 100;Scienc...   Savory: 50;Spicy: 30;Sweet: 20;Spicy          No: 0;Yes: 100;Yes         \n",
       "11                 jodaha  Comfortable  : 40;Neither comfortable nor unco...                               Agree: 65;Disagree: 15;Neither agree nor disag...                         Comfortable: 40;Neither comfortable nor uncomf...                                    Agree: 70;Disagree: 10;Neither agree nor disag...                          Agree: 25;Disagree: 25;Neither agree nor disag...                                    Agree: 15;Disagree: 50;Neither agree nor disag...                                                   Agree: 40;Disagree: 30;Neither agree nor disag...                                                                                                               a strength: 25;a weakness: 40;average: 35;a st...  a strength: 30;a weakness: 30;average: 40;a st...  Baby Boomers: 15;Gen X: 25;Gen Z: 20;Millennia...    Mystery: 50;Science Fiction/Fantasy: 50;Mystery  Savory: 35;Spicy: 30;Sweet: 35;Savory           No: 70;Yes: 30;No         \n",
       "12               Rexubera  Comfortable  : 30;Neither comfortable nor unco...                               Agree: 88;Disagree: 12;Neither agree nor disag...                         Comfortable: 39;Neither comfortable nor uncomf...                                    Agree: 66;Disagree: 34;Neither agree nor disag...                          Agree: 85;Disagree: 15;Neither agree nor disag...                                    Agree: 0;Disagree: 62;Neither agree nor disagr...                                                   Agree: 62;Disagree: 38;Neither agree nor disag...                                                                                                               a strength: 36;a weakness: 14;average: 50;a st...  a strength: 77;a weakness: 23;average: 0;a str...  Baby Boomers: 0;Gen X: 0;Gen Z: 0;Millennials ...  Mystery: 18;Science Fiction/Fantasy: 82;Scienc...  Savory: 34;Spicy: 16;Sweet: 50;Savory          No: 60;Yes: 40;Yes         \n",
       "13                 bdclow  Comfortable  : 38;Neither comfortable nor unco...                               Agree: 94;Disagree: 0;Neither agree nor disagr...                         Comfortable: 63;Neither comfortable nor uncomf...                                    Agree: 26;Disagree: 70;Neither agree nor disag...                          Agree: 64;Disagree: 26;Neither agree nor disag...                                    Agree: 14;Disagree: 65;Neither agree nor disag...                                                   Agree: 65;Disagree: 26;Neither agree nor disag...                                                                                                               a strength: 13;a weakness: 50;average: 37;a we...  a strength: 50;a weakness: 21;average: 29;a st...  Baby Boomers: 0;Gen X: 14;Gen Z: 31;Millennial...  Mystery: 50;Science Fiction/Fantasy: 50;Scienc...   Savory: 22;Spicy: 50;Sweet: 28;Spicy          No: 50;Yes: 50;Yes         \n",
       "14  buffythevampireslayer  Comfortable  : 35;Neither comfortable nor unco...                               Agree: 100;Disagree: 0;Neither agree nor disag...                         Comfortable: 52;Neither comfortable nor uncomf...                                    Agree: 100;Disagree: 0;Neither agree nor disag...                          Agree: 30;Disagree: 36;Neither agree nor disag...                                    Agree: 0;Disagree: 100;Neither agree nor disag...                                                   Agree: 50;Disagree: 50;Neither agree nor disag...                                                                                                               a strength: 35;a weakness: 21;average: 44;average  a strength: 45;a weakness: 17;average: 38;a st...  Baby Boomers: 13;Gen X: 27;Gen Z: 17;Millennia...  Mystery: 50;Science Fiction/Fantasy: 50;Scienc...    Savory: 49;Spicy: 8;Sweet: 43;Sweet          No: 50;Yes: 50;Yes         \n",
       "15         hungrysquirrel  Comfortable  : 20;Neither comfortable nor unco...                               Agree: 75;Disagree: 3;Neither agree nor disagr...                         Comfortable: 40;Neither comfortable nor uncomf...                                    Agree: 75;Disagree: 20;Neither agree nor disag...                          Agree: 50;Disagree: 40;Neither agree nor disag...                                    Agree: 25;Disagree: 65;Neither agree nor disag...                                                   Agree: 25;Disagree: 50;Neither agree nor disag...                                                                                                               a strength: 20;a weakness: 30;average: 50;average  a strength: 30;a weakness: 40;average: 30;a st...  Baby Boomers: 5;Gen X: 2;Gen Z: 3;Millennials ...  Mystery: 50;Science Fiction/Fantasy: 50;Scienc...   Savory: 30;Spicy: 30;Sweet: 40;Spicy           No: 80;Yes: 20;No         \n",
       "16                tps0329  Comfortable  : 50;Neither comfortable nor unco...                               Agree: 100;Disagree: 0;Neither agree nor disag...                         Comfortable: 48;Neither comfortable nor uncomf...                                    Agree: 100;Disagree: 0;Neither agree nor disag...                          Agree: 100;Disagree: 0;Neither agree nor disag...                                    Agree: 0;Disagree: 100;Neither agree nor disag...                                                   Agree: 100;Disagree: 0;Neither agree nor disag...                                                                                                                a strength: 0;a weakness: 37;average: 63;average   a strength: 0;a weakness: 43;average: 57;average  Baby Boomers: 0;Gen X: 0;Gen Z: 0;Millennials ...  Mystery: 0;Science Fiction/Fantasy: 100;Scienc...    Savory: 0;Spicy: 0;Sweet: 100;Sweet          No: 0;Yes: 100;Yes         \n",
       "17                  joker  Comfortable  : 40;Neither comfortable nor unco...                               Agree: 78;Disagree: 5;Neither agree nor disagr...                         Comfortable: 41;Neither comfortable nor uncomf...                                    Agree: 57;Disagree: 19;Neither agree nor disag...                          Agree: 56;Disagree: 5;Neither agree nor disagr...                                    Agree: 36;Disagree: 24;Neither agree nor disag...                                                   Agree: 53;Disagree: 31;Neither agree nor disag...                                                                                                               a strength: 41;a weakness: 24;average: 35;a st...  a strength: 32;a weakness: 16;average: 52;a we...  Baby Boomers: 21;Gen X: 17;Gen Z: 7;Millennial...    Mystery: 33;Science Fiction/Fantasy: 67;Mystery  Savory: 18;Spicy: 33;Sweet: 49;Savory          No: 39;Yes: 61;Yes         \n",
       "18              kores1003  Comfortable  : 46;Neither comfortable nor unco...                               Agree: 0;Disagree: 100;Neither agree nor disag...                         Comfortable: 56;Neither comfortable nor uncomf...                                    Agree: 0;Disagree: 100;Neither agree nor disag...                          Agree: 30;Disagree: 50;Neither agree nor disag...                                    Agree: 50;Disagree: 0;Neither agree nor disagr...                                                   Agree: 100;Disagree: 0;Neither agree nor disag...                                                                                                               a strength: 67;a weakness: 33;average: 0;a str...  a strength: 100;a weakness: 0;average: 0;a str...  Baby Boomers: 0;Gen X: 0;Gen Z: 0;Millennials ...  Mystery: 61;Science Fiction/Fantasy: 39;Scienc...    Savory: 0;Spicy: 100;Sweet: 0;Spicy          No: 77;Yes: 23;Yes         \n",
       "19                  bluey  Comfortable  : 67;Neither comfortable nor unco...                               Agree: 75;Disagree: 21;Neither agree nor disag...                         Comfortable: 37;Neither comfortable nor uncomf...                                    Agree: 64;Disagree: 25;Neither agree nor disag...                          Agree: 33;Disagree: 40;Neither agree nor disag...                                    Agree: 26;Disagree: 58;Neither agree nor disag...                                                   Agree: 74;Disagree: 11;Neither agree nor disag...                                                                                                               a strength: 33;a weakness: 65;average: 2;a str...  a strength: 31;a weakness: 28;average: 41;a st...  Baby Boomers: 1;Gen X: 51;Gen Z: 9;Millennials...  Mystery: 25;Science Fiction/Fantasy: 75;Scienc...   Savory: 22;Spicy: 24;Sweet: 54;Spicy          No: 29;Yes: 71;Yes         \n",
       "20             allcheese2  Comfortable  : 23;Neither comfortable nor unco...                               Agree: 91;Disagree: 0;Neither agree nor disagr...                         Comfortable: 69;Neither comfortable nor uncomf...                                    Agree: 86;Disagree: 14;Neither agree nor disag...                          Agree: 90;Disagree: 0;Neither agree nor disagr...                                    Agree: 0;Disagree: 100;Neither agree nor disag...                                                   Agree: 77;Disagree: 12;Neither agree nor disag...                                                                                                                a strength: 0;a weakness: 31;average: 69;average   a strength: 26;a weakness: 0;average: 74;average  Baby Boomers: 0;Gen X: 0;Gen Z: 38;Millennials...    Mystery: 59;Science Fiction/Fantasy: 41;Mystery    Savory: 31;Spicy: 69;Sweet: 0;Spicy          No: 40;Yes: 60;Yes         \n",
       "21              mads_life  Comfortable  : 35;Neither comfortable nor unco...                               Agree: 85;Disagree: 0;Neither agree nor disagr...                         Comfortable: 15;Neither comfortable nor uncomf...                                    Agree: 20;Disagree: 15;Neither agree nor disag...                          Agree: 80;Disagree: 5;Neither agree nor disagr...                                    Agree: 0;Disagree: 95;Neither agree nor disagr...                                                   Agree: 85;Disagree: 10;Neither agree nor disag...                                                                                                               a strength: 85;a weakness: 0;average: 15;a str...  a strength: 75;a weakness: 10;average: 15;a st...  Baby Boomers: 3;Gen X: 82;Gen Z: 2;Millennials...  Mystery: 50;Science Fiction/Fantasy: 50;Scienc...   Savory: 25;Spicy: 50;Sweet: 25;Spicy           No: 25;Yes: 75;No         \n",
       "22              ILTKY2021  Comfortable  : 50;Neither comfortable nor unco...                               Agree: 90;Disagree: 0;Neither agree nor disagr...                         Comfortable: 40;Neither comfortable nor uncomf...                                    Agree: 80;Disagree: 5;Neither agree nor disagr...                          Agree: 0;Disagree: 90;Neither agree nor disagr...                                    Agree: 10;Disagree: 70;Neither agree nor disag...                                                   Agree: 85;Disagree: 10;Neither agree nor disag...                                                                                                               a strength: 40;a weakness: 10;average: 50;a we...  a strength: 30;a weakness: 20;average: 50;a we...  Baby Boomers: 5;Gen X: 10;Gen Z: 55;Millennial...  Mystery: 20;Science Fiction/Fantasy: 80;Scienc...  Savory: 45;Spicy: 10;Sweet: 45;Savory          No: 20;Yes: 80;Yes         \n",
       "23            shaylenhira  Comfortable  : 80;Neither comfortable nor unco...                               Agree: 95;Disagree: 0;Neither agree nor disagr...                         Comfortable: 70;Neither comfortable nor uncomf...                                    Agree: 95;Disagree: 5;Neither agree nor disagr...                          Agree: 70;Disagree: 10;Neither agree nor disag...                                    Agree: 20;Disagree: 30;Neither agree nor disag...                                                   Agree: 70;Disagree: 20;Neither agree nor disag...                                                                                                               a strength: 40;a weakness: 10;average: 50;average  a strength: 70;a weakness: 20;average: 10;a st...  Baby Boomers: 5;Gen X: 25;Gen Z: 30;Millennial...    Mystery: 65;Science Fiction/Fantasy: 35;Mystery   Savory: 40;Spicy: 30;Sweet: 30;Spicy          No: 75;Yes: 25;Yes         \n",
       "24                 ujo002  Comfortable  : 65;Neither comfortable nor unco...                               Agree: 90;Disagree: 8;Neither agree nor disagr...                         Comfortable: 30;Neither comfortable nor uncomf...                                    Agree: 74;Disagree: 20;Neither agree nor disag...                          Agree: 30;Disagree: 20;Neither agree nor disag...                                    Agree: 30;Disagree: 65;Neither agree nor disag...                                                   Agree: 60;Disagree: 35;Neither agree nor disag...                                                                                                               a strength: 10;a weakness: 30;average: 60;average  a strength: 40;a weakness: 35;average: 25;a we...  Baby Boomers: 2;Gen X: 25;Gen Z: 5;Millennials...    Mystery: 40;Science Fiction/Fantasy: 60;Mystery  Savory: 45;Spicy: 15;Sweet: 40;Savory           No: 35;Yes: 65;No         \n",
       "25                    rdk  Comfortable  : 100;Neither comfortable nor unc...                               Agree: 26;Disagree: 24;Neither agree nor disag...                         Comfortable: 42;Neither comfortable nor uncomf...                                    Agree: 50;Disagree: 23;Neither agree nor disag...                          Agree: 0;Disagree: 100;Neither agree nor disag...                                    Agree: 0;Disagree: 100;Neither agree nor disag...                                                   Agree: 50;Disagree: 22;Neither agree nor disag...                                                                                                               a strength: 46;a weakness: 1;average: 53;a str...  a strength: 12;a weakness: 63;average: 25;a st...  Baby Boomers: 0;Gen X: 49;Gen Z: 0;Millennials...  Mystery: 38;Science Fiction/Fantasy: 62;Scienc...  Savory: 53;Spicy: 15;Sweet: 32;Savory           No: 77;Yes: 23;No         \n",
       "26               kbob2990  Comfortable  : 100;Neither comfortable nor unc...                               Agree: 100;Disagree: 0;Neither agree nor disag...                         Comfortable: 64;Neither comfortable nor uncomf...                                    Agree: 100;Disagree: 0;Neither agree nor disag...                          Agree: 100;Disagree: 0;Neither agree nor disag...                                    Agree: 0;Disagree: 100;Neither agree nor disag...                                                   Agree: 50;Disagree: 25;Neither agree nor disag...                                                                                                               a strength: 0;a weakness: 52;average: 48;a wea...  a strength: 56;a weakness: 44;average: 0;a str...  Baby Boomers: 0;Gen X: 37;Gen Z: 1;Millennials...  Mystery: 50;Science Fiction/Fantasy: 50;Scienc...   Savory: 53;Spicy: 0;Sweet: 47;Savory          No: 50;Yes: 50;Yes         \n",
       "27               mads1234  Comfortable  : 60;Neither comfortable nor unco...                               Agree: 95;Disagree: 0;Neither agree nor disagr...                         Comfortable: 60;Neither comfortable nor uncomf...                                    Agree: 74;Disagree: 20;Neither agree nor disag...                          Agree: 80;Disagree: 0;Neither agree nor disagr...                                    Agree: 19;Disagree: 76;Neither agree nor disag...                                                   Agree: 38;Disagree: 31;Neither agree nor disag...                                                                                                               a strength: 40;a weakness: 34;average: 26;a st...  a strength: 15;a weakness: 18;average: 67;average  Baby Boomers: 7;Gen X: 0;Gen Z: 33;Millennials...  Mystery: 50;Science Fiction/Fantasy: 50;Scienc...   Savory: 14;Spicy: 31;Sweet: 55;Sweet           No: 56;Yes: 44;No         \n",
       "28             skyyoung12  Comfortable  : 85;Neither comfortable nor unco...                               Agree: 99;Disagree: 0;Neither agree nor disagr...                         Comfortable: 81;Neither comfortable nor uncomf...                                    Agree: 96;Disagree: 4;Neither agree nor disagr...                          Agree: 90;Disagree: 0;Neither agree nor disagr...                                    Agree: 4;Disagree: 89;Neither agree nor disagr...                                                   Agree: 2;Disagree: 0;Neither agree nor disagre...                                                                                                                 a strength: 0;a weakness: 8;average: 92;average  a strength: 98;a weakness: 0;average: 2;a stre...  Baby Boomers: 0;Gen X: 0;Gen Z: 15;Millennials...    Mystery: 50;Science Fiction/Fantasy: 50;Mystery     Savory: 8;Spicy: 0;Sweet: 92;Sweet          No: 0;Yes: 100;Yes         \n",
       "29             scubasteve  Comfortable  : 75;Neither comfortable nor unco...                               Agree: 96;Disagree: 0;Neither agree nor disagr...                         Comfortable: 50;Neither comfortable nor uncomf...                                    Agree: 95;Disagree: 0;Neither agree nor disagr...                          Agree: 60;Disagree: 10;Neither agree nor disag...                                    Agree: 5;Disagree: 95;Neither agree nor disagr...                                                   Agree: 75;Disagree: 25;Neither agree nor disag...                                                                                                               a strength: 42;a weakness: 25;average: 33;a we...  a strength: 40;a weakness: 35;average: 25;a st...  Baby Boomers: 6;Gen X: 27;Gen Z: 27;Millennial...  Mystery: 49;Science Fiction/Fantasy: 51;Scienc...   Savory: 26;Spicy: 29;Sweet: 45;Sweet          No: 20;Yes: 80;Yes         \n",
       "30           matchallison  Comfortable  : 70;Neither comfortable nor unco...                               Agree: 80;Disagree: 0;Neither agree nor disagr...                         Comfortable: 0;Neither comfortable nor uncomfo...                                    Agree: 90;Disagree: 0;Neither agree nor disagr...                          Agree: 50;Disagree: 0;Neither agree nor disagr...                                    Agree: 30;Disagree: 70;Neither agree nor disag...                                                   Agree: 90;Disagree: 0;Neither agree nor disagr...                                                                                                               a strength: 10;a weakness: 50;average: 40;average   a strength: 0;a weakness: 40;average: 60;average  Baby Boomers: 0;Gen X: 50;Gen Z: 10;Millennial...    Mystery: 55;Science Fiction/Fantasy: 45;Mystery   Savory: 60;Spicy: 0;Sweet: 40;Savory          No: 40;Yes: 60;Yes         \n",
       "31          LeiaSkywalker  Comfortable  : 30;Neither comfortable nor unco...                               Agree: 80;Disagree: 10;Neither agree nor disag...                         Comfortable: 65;Neither comfortable nor uncomf...                                    Agree: 16;Disagree: 21;Neither agree nor disag...                          Agree: 50;Disagree: 35;Neither agree nor disag...                                    Agree: 38;Disagree: 62;Neither agree nor disag...                                                   Agree: 64;Disagree: 24;Neither agree nor disag...                                                                                                               a strength: 44;a weakness: 50;average: 6;a str...  a strength: 30;a weakness: 50;average: 20;a st...  Baby Boomers: 0;Gen X: 50;Gen Z: 9;Millennials...    Mystery: 50;Science Fiction/Fantasy: 50;Mystery   Savory: 42;Spicy: 8;Sweet: 50;Savory          No: 50;Yes: 50;Yes         \n",
       "32                mkibria  Comfortable  : 22;Neither comfortable nor unco...                               Agree: 100;Disagree: 0;Neither agree nor disag...                         Comfortable: 30;Neither comfortable nor uncomf...                                    Agree: 31;Disagree: 50;Neither agree nor disag...                          Agree: 55;Disagree: 9;Neither agree nor disagr...                                    Agree: 0;Disagree: 87;Neither agree nor disagr...                                                   Agree: 88;Disagree: 0;Neither agree nor disagr...                                                                                                               a strength: 58;a weakness: 42;average: 0;a str...  a strength: 40;a weakness: 60;average: 0;a wea...  Baby Boomers: 0;Gen X: 86;Gen Z: 0;Millennials...  Mystery: 50;Science Fiction/Fantasy: 50;Scienc...    Savory: 0;Spicy: 30;Sweet: 70;Sweet          No: 50;Yes: 50;Yes         \n",
       "33            bikeproform  Comfortable  : 63;Neither comfortable nor unco...                               Agree: 91;Disagree: 2;Neither agree nor disagr...                         Comfortable: 60;Neither comfortable nor uncomf...                                    Agree: 79;Disagree: 6;Neither agree nor disagr...                          Agree: 38;Disagree: 16;Neither agree nor disag...                                    Agree: 8;Disagree: 72;Neither agree nor disagr...                                                   Agree: 55;Disagree: 22;Neither agree nor disag...                                                                                                               a strength: 16;a weakness: 15;average: 69;average  a strength: 46;a weakness: 19;average: 35;average  Baby Boomers: 18;Gen X: 31;Gen Z: 11;Millennia...    Mystery: 50;Science Fiction/Fantasy: 50;Mystery  Savory: 45;Spicy: 20;Sweet: 35;Savory          No: 50;Yes: 50;Yes         \n",
       "34       twrdzdatAsciends  Comfortable  : 23;Neither comfortable nor unco...                               Agree: 63;Disagree: 7;Neither agree nor disagr...                         Comfortable: 24;Neither comfortable nor uncomf...                                    Agree: 59;Disagree: 14;Neither agree nor disag...                          Agree: 25;Disagree: 24;Neither agree nor disag...                                    Agree: 0;Disagree: 100;Neither agree nor disag...                                                   Agree: 60;Disagree: 13;Neither agree nor disag...                                                                                                               a strength: 33;a weakness: 34;average: 33;average   a strength: 38;a weakness: 8;average: 54;average  Baby Boomers: 15;Gen X: 33;Gen Z: 16;Millennia...    Mystery: 77;Science Fiction/Fantasy: 23;Mystery    Savory: 37;Spicy: 9;Sweet: 54;Spicy          No: 57;Yes: 43;Yes         \n",
       "35                     c_  Comfortable  : 73;Neither comfortable nor unco...                               Agree: 100;Disagree: 0;Neither agree nor disag...                         Comfortable: 69;Neither comfortable nor uncomf...                                    Agree: 91;Disagree: 0;Neither agree nor disagr...                          Agree: 73;Disagree: 27;Neither agree nor disag...                                    Agree: 19;Disagree: 60;Neither agree nor disag...                                                   Agree: 74;Disagree: 21;Neither agree nor disag...                                                                                                               a strength: 66;a weakness: 13;average: 21;a we...  a strength: 50;a weakness: 35;average: 15;a st...  Baby Boomers: 0;Gen X: 25;Gen Z: 25;Millennial...  Mystery: 50;Science Fiction/Fantasy: 50;Scienc...   Savory: 30;Spicy: 46;Sweet: 24;Spicy          No: 50;Yes: 50;Yes         \n",
       "36               asdfasdf  Comfortable  : 34;Neither comfortable nor unco...                               Agree: 99;Disagree: 0;Neither agree nor disagr...                         Comfortable: 33;Neither comfortable nor uncomf...                                    Agree: 90;Disagree: 4;Neither agree nor disagr...                          Agree: 47;Disagree: 13;Neither agree nor disag...                                    Agree: 9;Disagree: 79;Neither agree nor disagr...                                                   Agree: 71;Disagree: 17;Neither agree nor disag...                                                                                                               a strength: 19;a weakness: 30;average: 51;average  a strength: 25;a weakness: 11;average: 64;a st...  Baby Boomers: 12;Gen X: 49;Gen Z: 3;Millennial...  Mystery: 43;Science Fiction/Fantasy: 57;Scienc...  Savory: 38;Spicy: 27;Sweet: 35;Savory          No: 56;Yes: 44;Yes         \n",
       "37        2fSzNsDVC6oM0uf  Comfortable  : 81;Neither comfortable nor unco...                               Agree: 100;Disagree: 0;Neither agree nor disag...                         Comfortable: 55;Neither comfortable nor uncomf...                                    Agree: 50;Disagree: 0;Neither agree nor disagr...                          Agree: 100;Disagree: 0;Neither agree nor disag...                                    Agree: 15;Disagree: 50;Neither agree nor disag...                                                   Agree: 60;Disagree: 20;Neither agree nor disag...                                                                                                                a strength: 0;a weakness: 35;average: 65;average  a strength: 20;a weakness: 30;average: 50;average  Baby Boomers: 0;Gen X: 25;Gen Z: 5;Millennials...    Mystery: 50;Science Fiction/Fantasy: 50;Mystery   Savory: 50;Spicy: 25;Sweet: 25;Spicy          No: 75;Yes: 25;Yes         \n",
       "38          darksk8terboi  Comfortable  : 86;Neither comfortable nor unco...                               Agree: 100;Disagree: 0;Neither agree nor disag...                         Comfortable: 90;Neither comfortable nor uncomf...                                    Agree: 94;Disagree: 6;Neither agree nor disagr...                          Agree: 81;Disagree: 19;Neither agree nor disag...                                    Agree: 0;Disagree: 100;Neither agree nor disag...                                                   Agree: 100;Disagree: 0;Neither agree nor disag...                                                                                                               a strength: 76;a weakness: 0;average: 24;a str...  a strength: 91;a weakness: 0;average: 9;a stre...  Baby Boomers: 0;Gen X: 0;Gen Z: 85;Millennials...  Mystery: 0;Science Fiction/Fantasy: 100;Scienc...  Savory: 45;Spicy: 30;Sweet: 25;Savory          No: 35;Yes: 65;Yes         \n",
       "39             goblue2021  Comfortable  : 77;Neither comfortable nor unco...                               Agree: 100;Disagree: 0;Neither agree nor disag...                         Comfortable: 59;Neither comfortable nor uncomf...                                    Agree: 74;Disagree: 14;Neither agree nor disag...                          Agree: 50;Disagree: 14;Neither agree nor disag...                                    Agree: 11;Disagree: 81;Neither agree nor disag...                                                   Agree: 89;Disagree: 11;Neither agree nor disag...                                                                                                               a strength: 28;a weakness: 22;average: 50;average  a strength: 16;a weakness: 52;average: 32;average  Baby Boomers: 4;Gen X: 10;Gen Z: 30;Millennial...    Mystery: 50;Science Fiction/Fantasy: 50;Mystery   Savory: 51;Spicy: 18;Sweet: 31;Spicy          No: 89;Yes: 11;Yes         \n",
       "40                   iyeo  Comfortable  : 0;Neither comfortable nor uncom...                               Agree: 47;Disagree: 53;Neither agree nor disag...                         Comfortable: 42;Neither comfortable nor uncomf...                                    Agree: 100;Disagree: 0;Neither agree nor disag...                          Agree: 9;Disagree: 73;Neither agree nor disagr...                                    Agree: 37;Disagree: 13;Neither agree nor disag...                                                   Agree: 60;Disagree: 21;Neither agree nor disag...                                                                                                               a strength: 30;a weakness: 17;average: 53;average  a strength: 26;a weakness: 50;average: 24;a we...  Baby Boomers: 5;Gen X: 21;Gen Z: 25;Millennial...  Mystery: 27;Science Fiction/Fantasy: 73;Scienc...  Savory: 52;Spicy: 19;Sweet: 29;Savory          No: 50;Yes: 50;Yes         "
      ]
     },
     "metadata": {},
     "output_type": "display_data"
    }
   ],
   "source": [
    "import pandas as pd\n",
    "import numpy as np\n",
    "\n",
    "# importing datasets\n",
    "df=pd.read_csv('Combine_Corrected_Survey.csv')\n",
    "\n",
    "#printing entire dataframe for quality checks\n",
    "pd.set_option('display.max_rows', None)\n",
    "pd.set_option('display.max_columns', None)\n",
    "pd.set_option('display.width', 1000)\n",
    "pd.set_option('display.colheader_justify', 'center')\n",
    "pd.set_option('display.precision', 2)\n",
    "display(df)\n"
   ]
  },
  {
   "cell_type": "markdown",
   "metadata": {},
   "source": [
    "# Cleaning the Data"
   ]
  },
  {
   "cell_type": "markdown",
   "metadata": {},
   "source": [
    "From what I can see according to the dataframe, there are a couple of responses within each question asked as well as some categorical responses. To begin the cleaning process, let's separate each response and create a new column for the new split variable while maintaining only the rating number and categorical values.\n",
    "\n",
    "The order of operations to clean this dataframe is as follows:\n",
    "1. Rename the columns to shorten them for easier coding\n",
    "2. Split each response by ';' to separate the ratings\n",
    "3. Drop the renamed columns so we can make room for the new columns I will create\n",
    "4. Create the new columns of each split response and remove all text so only the rating is left\n",
    "5. Strip any white spaces to keep the dataframe clean and consistent\n",
    "6. Drop the 'Username' variable since it is not necessary for this analysis\n",
    "7. Return output of the cleaned dataframe"
   ]
  },
  {
   "cell_type": "code",
   "execution_count": 83,
   "metadata": {},
   "outputs": [
    {
     "data": {
      "text/html": [
       "<div>\n",
       "<style scoped>\n",
       "    .dataframe tbody tr th:only-of-type {\n",
       "        vertical-align: middle;\n",
       "    }\n",
       "\n",
       "    .dataframe tbody tr th {\n",
       "        vertical-align: top;\n",
       "    }\n",
       "\n",
       "    .dataframe thead th {\n",
       "        text-align: right;\n",
       "    }\n",
       "</style>\n",
       "<table border=\"1\" class=\"dataframe\">\n",
       "  <thead>\n",
       "    <tr style=\"text-align: center;\">\n",
       "      <th></th>\n",
       "      <th>Q1_Comfortable</th>\n",
       "      <th>Q1_Neither</th>\n",
       "      <th>Q1_Uncomfortable</th>\n",
       "      <th>Q1_Ans</th>\n",
       "      <th>Q2_Agree</th>\n",
       "      <th>Q2_Disagree</th>\n",
       "      <th>Q2_Neutral</th>\n",
       "      <th>Q2_Ans</th>\n",
       "      <th>Q3_Comfortable</th>\n",
       "      <th>Q3_Neither</th>\n",
       "      <th>Q3_Uncomfortable</th>\n",
       "      <th>Q3_Ans</th>\n",
       "      <th>Q4_Agree</th>\n",
       "      <th>Q4_Disagree</th>\n",
       "      <th>Q4_Neutral</th>\n",
       "      <th>Q4_Ans</th>\n",
       "      <th>Q5_Agree</th>\n",
       "      <th>Q5_Disagree</th>\n",
       "      <th>Q5_Neutral</th>\n",
       "      <th>Q5_Ans</th>\n",
       "      <th>Q6_Agree</th>\n",
       "      <th>Q6_Disagree</th>\n",
       "      <th>Q6_Neutral</th>\n",
       "      <th>Q6_Ans</th>\n",
       "      <th>Q7_Agree</th>\n",
       "      <th>Q7_Disagree</th>\n",
       "      <th>Q7_Neutral</th>\n",
       "      <th>Q7_Ans</th>\n",
       "      <th>Q8_Strength</th>\n",
       "      <th>Q8_Weak</th>\n",
       "      <th>Q8_Average</th>\n",
       "      <th>Q8_Ans</th>\n",
       "      <th>Q9_Strength</th>\n",
       "      <th>Q9_Weak</th>\n",
       "      <th>Q9_Average</th>\n",
       "      <th>Q9_Ans</th>\n",
       "      <th>Q10_Boomer</th>\n",
       "      <th>Q10_X</th>\n",
       "      <th>Q10_Z</th>\n",
       "      <th>Q10_Mill</th>\n",
       "      <th>Q10_Great</th>\n",
       "      <th>Q10_Ans</th>\n",
       "      <th>Q11_Mystery</th>\n",
       "      <th>Q11_Science</th>\n",
       "      <th>Q11_Ans</th>\n",
       "      <th>Q12_Savory</th>\n",
       "      <th>Q12_Spicy</th>\n",
       "      <th>Q12_Sweet</th>\n",
       "      <th>Q12_Ans</th>\n",
       "      <th>Q13_No</th>\n",
       "      <th>Q13_Yes</th>\n",
       "      <th>Q13_Ans</th>\n",
       "    </tr>\n",
       "  </thead>\n",
       "  <tbody>\n",
       "    <tr>\n",
       "      <th>0</th>\n",
       "      <td>64</td>\n",
       "      <td>27</td>\n",
       "      <td>9</td>\n",
       "      <td>2</td>\n",
       "      <td>46</td>\n",
       "      <td>13</td>\n",
       "      <td>41</td>\n",
       "      <td>1</td>\n",
       "      <td>42</td>\n",
       "      <td>56</td>\n",
       "      <td>2</td>\n",
       "      <td>2</td>\n",
       "      <td>73</td>\n",
       "      <td>0</td>\n",
       "      <td>27</td>\n",
       "      <td>1</td>\n",
       "      <td>42</td>\n",
       "      <td>37</td>\n",
       "      <td>21</td>\n",
       "      <td>1</td>\n",
       "      <td>14</td>\n",
       "      <td>70</td>\n",
       "      <td>16</td>\n",
       "      <td>3</td>\n",
       "      <td>46</td>\n",
       "      <td>42</td>\n",
       "      <td>12</td>\n",
       "      <td>3</td>\n",
       "      <td>39</td>\n",
       "      <td>5</td>\n",
       "      <td>56</td>\n",
       "      <td>3</td>\n",
       "      <td>45</td>\n",
       "      <td>16</td>\n",
       "      <td>39</td>\n",
       "      <td>3</td>\n",
       "      <td>7</td>\n",
       "      <td>12</td>\n",
       "      <td>34</td>\n",
       "      <td>47</td>\n",
       "      <td>0</td>\n",
       "      <td>Gen X</td>\n",
       "      <td>44</td>\n",
       "      <td>56</td>\n",
       "      <td>Mystery</td>\n",
       "      <td>27</td>\n",
       "      <td>35</td>\n",
       "      <td>38</td>\n",
       "      <td>2</td>\n",
       "      <td>59</td>\n",
       "      <td>41</td>\n",
       "      <td>1</td>\n",
       "    </tr>\n",
       "    <tr>\n",
       "      <th>1</th>\n",
       "      <td>0</td>\n",
       "      <td>30</td>\n",
       "      <td>70</td>\n",
       "      <td>2</td>\n",
       "      <td>96</td>\n",
       "      <td>0</td>\n",
       "      <td>4</td>\n",
       "      <td>1</td>\n",
       "      <td>30</td>\n",
       "      <td>35</td>\n",
       "      <td>35</td>\n",
       "      <td>2</td>\n",
       "      <td>94</td>\n",
       "      <td>0</td>\n",
       "      <td>6</td>\n",
       "      <td>1</td>\n",
       "      <td>51</td>\n",
       "      <td>11</td>\n",
       "      <td>38</td>\n",
       "      <td>1</td>\n",
       "      <td>11</td>\n",
       "      <td>84</td>\n",
       "      <td>5</td>\n",
       "      <td>3</td>\n",
       "      <td>91</td>\n",
       "      <td>2</td>\n",
       "      <td>7</td>\n",
       "      <td>1</td>\n",
       "      <td>7</td>\n",
       "      <td>67</td>\n",
       "      <td>26</td>\n",
       "      <td>2</td>\n",
       "      <td>24</td>\n",
       "      <td>34</td>\n",
       "      <td>42</td>\n",
       "      <td>3</td>\n",
       "      <td>4</td>\n",
       "      <td>14</td>\n",
       "      <td>49</td>\n",
       "      <td>26</td>\n",
       "      <td>7</td>\n",
       "      <td>Millennials (Gen Y)</td>\n",
       "      <td>35</td>\n",
       "      <td>65</td>\n",
       "      <td>Science Fiction/Fantasy</td>\n",
       "      <td>31</td>\n",
       "      <td>45</td>\n",
       "      <td>24</td>\n",
       "      <td>1</td>\n",
       "      <td>23</td>\n",
       "      <td>77</td>\n",
       "      <td>1</td>\n",
       "    </tr>\n",
       "    <tr>\n",
       "      <th>2</th>\n",
       "      <td>10</td>\n",
       "      <td>50</td>\n",
       "      <td>40</td>\n",
       "      <td>3</td>\n",
       "      <td>90</td>\n",
       "      <td>0</td>\n",
       "      <td>10</td>\n",
       "      <td>1</td>\n",
       "      <td>50</td>\n",
       "      <td>30</td>\n",
       "      <td>20</td>\n",
       "      <td>2</td>\n",
       "      <td>80</td>\n",
       "      <td>0</td>\n",
       "      <td>20</td>\n",
       "      <td>1</td>\n",
       "      <td>20</td>\n",
       "      <td>30</td>\n",
       "      <td>50</td>\n",
       "      <td>2</td>\n",
       "      <td>0</td>\n",
       "      <td>80</td>\n",
       "      <td>20</td>\n",
       "      <td>3</td>\n",
       "      <td>90</td>\n",
       "      <td>0</td>\n",
       "      <td>10</td>\n",
       "      <td>1</td>\n",
       "      <td>50</td>\n",
       "      <td>0</td>\n",
       "      <td>50</td>\n",
       "      <td>1</td>\n",
       "      <td>50</td>\n",
       "      <td>0</td>\n",
       "      <td>50</td>\n",
       "      <td>1</td>\n",
       "      <td>10</td>\n",
       "      <td>25</td>\n",
       "      <td>30</td>\n",
       "      <td>35</td>\n",
       "      <td>0</td>\n",
       "      <td>Millennials (Gen Y)</td>\n",
       "      <td>50</td>\n",
       "      <td>50</td>\n",
       "      <td>Science Fiction/Fantasy</td>\n",
       "      <td>50</td>\n",
       "      <td>30</td>\n",
       "      <td>20</td>\n",
       "      <td>1</td>\n",
       "      <td>80</td>\n",
       "      <td>20</td>\n",
       "      <td>1</td>\n",
       "    </tr>\n",
       "    <tr>\n",
       "      <th>3</th>\n",
       "      <td>25</td>\n",
       "      <td>50</td>\n",
       "      <td>25</td>\n",
       "      <td>2</td>\n",
       "      <td>90</td>\n",
       "      <td>0</td>\n",
       "      <td>10</td>\n",
       "      <td>1</td>\n",
       "      <td>40</td>\n",
       "      <td>10</td>\n",
       "      <td>50</td>\n",
       "      <td>3</td>\n",
       "      <td>80</td>\n",
       "      <td>0</td>\n",
       "      <td>20</td>\n",
       "      <td>1</td>\n",
       "      <td>50</td>\n",
       "      <td>25</td>\n",
       "      <td>25</td>\n",
       "      <td>1</td>\n",
       "      <td>20</td>\n",
       "      <td>60</td>\n",
       "      <td>20</td>\n",
       "      <td>3</td>\n",
       "      <td>75</td>\n",
       "      <td>25</td>\n",
       "      <td>0</td>\n",
       "      <td>1</td>\n",
       "      <td>25</td>\n",
       "      <td>50</td>\n",
       "      <td>25</td>\n",
       "      <td>2</td>\n",
       "      <td>25</td>\n",
       "      <td>25</td>\n",
       "      <td>50</td>\n",
       "      <td>3</td>\n",
       "      <td>0</td>\n",
       "      <td>20</td>\n",
       "      <td>40</td>\n",
       "      <td>40</td>\n",
       "      <td>0</td>\n",
       "      <td>Gen X</td>\n",
       "      <td>40</td>\n",
       "      <td>60</td>\n",
       "      <td>Mystery</td>\n",
       "      <td>30</td>\n",
       "      <td>30</td>\n",
       "      <td>40</td>\n",
       "      <td>1</td>\n",
       "      <td>40</td>\n",
       "      <td>60</td>\n",
       "      <td>1</td>\n",
       "    </tr>\n",
       "    <tr>\n",
       "      <th>4</th>\n",
       "      <td>72</td>\n",
       "      <td>15</td>\n",
       "      <td>13</td>\n",
       "      <td>2</td>\n",
       "      <td>90</td>\n",
       "      <td>0</td>\n",
       "      <td>10</td>\n",
       "      <td>1</td>\n",
       "      <td>49</td>\n",
       "      <td>27</td>\n",
       "      <td>24</td>\n",
       "      <td>2</td>\n",
       "      <td>87</td>\n",
       "      <td>0</td>\n",
       "      <td>13</td>\n",
       "      <td>1</td>\n",
       "      <td>2</td>\n",
       "      <td>94</td>\n",
       "      <td>4</td>\n",
       "      <td>3</td>\n",
       "      <td>77</td>\n",
       "      <td>9</td>\n",
       "      <td>14</td>\n",
       "      <td>1</td>\n",
       "      <td>86</td>\n",
       "      <td>8</td>\n",
       "      <td>6</td>\n",
       "      <td>1</td>\n",
       "      <td>72</td>\n",
       "      <td>12</td>\n",
       "      <td>16</td>\n",
       "      <td>3</td>\n",
       "      <td>37</td>\n",
       "      <td>28</td>\n",
       "      <td>35</td>\n",
       "      <td>3</td>\n",
       "      <td>3</td>\n",
       "      <td>45</td>\n",
       "      <td>2</td>\n",
       "      <td>50</td>\n",
       "      <td>0</td>\n",
       "      <td>Millennials (Gen Y)</td>\n",
       "      <td>46</td>\n",
       "      <td>54</td>\n",
       "      <td>Science Fiction/Fantasy</td>\n",
       "      <td>33</td>\n",
       "      <td>31</td>\n",
       "      <td>36</td>\n",
       "      <td>3</td>\n",
       "      <td>40</td>\n",
       "      <td>60</td>\n",
       "      <td>1</td>\n",
       "    </tr>\n",
       "  </tbody>\n",
       "</table>\n",
       "</div>"
      ],
      "text/plain": [
       "  Q1_Comfortable Q1_Neither Q1_Uncomfortable Q1_Ans Q2_Agree Q2_Disagree Q2_Neutral Q2_Ans Q3_Comfortable Q3_Neither Q3_Uncomfortable Q3_Ans Q4_Agree Q4_Disagree Q4_Neutral Q4_Ans Q5_Agree Q5_Disagree Q5_Neutral Q5_Ans Q6_Agree Q6_Disagree Q6_Neutral Q6_Ans Q7_Agree Q7_Disagree Q7_Neutral Q7_Ans Q8_Strength Q8_Weak Q8_Average Q8_Ans Q9_Strength Q9_Weak Q9_Average Q9_Ans Q10_Boomer Q10_X Q10_Z Q10_Mill Q10_Great       Q10_Ans        Q11_Mystery Q11_Science         Q11_Ans          Q12_Savory Q12_Spicy Q12_Sweet Q12_Ans Q13_No Q13_Yes Q13_Ans\n",
       "0       64           27             9           2      46         13         41        1         42           56             2           2      73          0         27        1      42         37         21        1      14         70         16        3      46         42         12        3        39         5       56        3        45        16       39        3        7       12    34     47         0                   Gen X      44          56                      Mystery     27         35        38        2     59      41       1  \n",
       "1        0           30            70           2      96          0          4        1         30           35            35           2      94          0          6        1      51         11         38        1      11         84          5        3      91          2          7        1         7        67       26        2        24        34       42        3        4       14    49     26         7     Millennials (Gen Y)      35          65      Science Fiction/Fantasy     31         45        24        1     23      77       1  \n",
       "2       10           50            40           3      90          0         10        1         50           30            20           2      80          0         20        1      20         30         50        2       0         80         20        3      90          0         10        1        50         0       50        1        50         0       50        1       10       25    30     35         0     Millennials (Gen Y)      50          50      Science Fiction/Fantasy     50         30        20        1     80      20       1  \n",
       "3       25           50            25           2      90          0         10        1         40           10            50           3      80          0         20        1      50         25         25        1      20         60         20        3      75         25          0        1        25        50       25        2        25        25       50        3        0       20    40     40         0                   Gen X      40          60                      Mystery     30         30        40        1     40      60       1  \n",
       "4       72           15            13           2      90          0         10        1         49           27            24           2      87          0         13        1       2         94          4        3      77          9         14        1      86          8          6        1        72        12       16        3        37        28       35        3        3       45     2     50         0     Millennials (Gen Y)      46          54      Science Fiction/Fantasy     33         31        36        3     40      60       1  "
      ]
     },
     "execution_count": 83,
     "metadata": {},
     "output_type": "execute_result"
    }
   ],
   "source": [
    "# importing datasets\n",
    "df=pd.read_csv('Combine_Corrected_Survey.csv')\n",
    "\n",
    "# renaming columns\n",
    "df.columns = ['Username','Q1','Q2','Q3','Q4','Q5','Q6','Q7','Q8','Q9','Q10','Q11','Q12','Q13']\n",
    "\n",
    "# spltting responses based on ';'\n",
    "df[['Q1_Comfortable','Q1_Neither','Q1_Uncomfortable','Q1_Ans']] = df['Q1'].str.split(';',expand=True)\n",
    "df[['Q2_Agree','Q2_Disagree','Q2_Neutral','Q2_Ans']] = df['Q2'].str.split(';',expand=True)\n",
    "df[['Q3_Comfortable','Q3_Neither','Q3_Uncomfortable','Q3_Ans']] = df['Q3'].str.split(';',expand=True)\n",
    "df[['Q4_Agree','Q4_Disagree','Q4_Neutral','Q4_Ans']] = df['Q4'].str.split(';',expand=True)\n",
    "df[['Q5_Agree','Q5_Disagree','Q5_Neutral','Q5_Ans']] = df['Q5'].str.split(';',expand=True)\n",
    "df[['Q6_Agree','Q6_Disagree','Q6_Neutral','Q6_Ans']] = df['Q6'].str.split(';',expand=True)\n",
    "df[['Q7_Agree','Q7_Disagree','Q7_Neutral','Q7_Ans']] = df['Q7'].str.split(';',expand=True)\n",
    "df[['Q8_Strength','Q8_Weak','Q8_Average','Q8_Ans']] = df['Q8'].str.split(';',expand=True)\n",
    "df[['Q9_Strength','Q9_Weak','Q9_Average','Q9_Ans']] = df['Q9'].str.split(';',expand=True)\n",
    "df[['Q10_Boomer','Q10_X','Q10_Z','Q10_Mill','Q10_Great','Q10_Ans']] = df['Q10'].str.split(';',expand=True)\n",
    "df[['Q11_Mystery','Q11_Science','Q11_Ans']] = df['Q11'].str.split(';',expand=True)\n",
    "df[['Q12_Savory','Q12_Spicy','Q12_Sweet','Q12_Ans']] = df['Q12'].str.split(';',expand=True)\n",
    "df[['Q13_No','Q13_Yes','Q13_Ans']] = df['Q13'].str.split(';',expand=True)\n",
    "\n",
    "# dropping columns\n",
    "df.drop(columns=['Q1','Q2','Q3','Q4','Q5','Q6','Q7','Q8','Q9','Q10','Q11','Q12','Q13'],inplace=True)\n",
    "\n",
    "# creating new columns with split responses\n",
    "for col in df.columns[1:]:\n",
    "    df[col] = df[col].str.split(':').str[-1]\n",
    "\n",
    "# stripping white spaces from responses\n",
    "df = df.apply(lambda x: x.str.strip() if x.dtype == \"object\" else x)\n",
    "\n",
    "# recoding some of the categorical data for better analysis\n",
    "df.replace({'Yes': '1', 'No': '2', 'strength': '1', 'a strength': '1', 'a weakness': '2', \n",
    "            'weakness': '2', 'average': '3', 'Comfortable': '1','Neither comfortable nor uncomfortable': '2',\n",
    "            'Uncomfortable': '3', 'Agree': '1', 'Neither agree nor disagree': '2', 'Disagree': '3', \n",
    "            'Savory': '1', 'Spicy': '2', 'Sweet': '3'}, inplace=True)\n",
    "\n",
    "# dropping the username variable since it's not necessary to keep\n",
    "df.drop('Username', inplace=True, axis=1)\n",
    "\n",
    "# returning the n rows to take al ook at the changes we made\n",
    "df.head()"
   ]
  },
  {
   "cell_type": "markdown",
   "metadata": {},
   "source": [
    "# Visualizing the Data\n",
    "### Exploring Question 10, \"<i>What generation do you most identify with?</i>\".\n",
    "\n",
    "#### Bar Chart\n",
    "\n",
    "Let's begin by evaluating the variable <b>Q10_Ans</b>, which is the result of the highest response rating to the survey question, \"<i>What generation do you most identify with?</i>\". I'll use a simple bar chart to get an idea of the self-identified age variation of the students. \n"
   ]
  },
  {
   "cell_type": "code",
   "execution_count": 84,
   "metadata": {},
   "outputs": [
    {
     "data": {
      "image/png": "[encoded data removed]",
      "text/plain": [
       "<Figure size 720x360 with 1 Axes>"
      ]
     },
     "metadata": {},
     "output_type": "display_data"
    }
   ],
   "source": [
    "# importing matplotlib to create bar chart\n",
    "import matplotlib.pyplot as plt\n",
    "\n",
    "colors=['#ff9999','#66b3ff','#99ff99','#ffcc99']\n",
    "df['Q10_Ans'].value_counts().plot(kind='bar', color=colors, figsize=(10,5))\n",
    "plt.xticks([0,1,2,3,4],['Gen Y', 'Gen X', 'Gen Z', 'Greatest','Baby Boomer'])\n",
    "plt.show()"
   ]
  },
  {
   "cell_type": "markdown",
   "metadata": {},
   "source": [
    "A couple of things I notice immedietly from this bar chart: \n",
    "\n",
    "1. No one that took the class survey identified as a Baby Boomer \n",
    "\n",
    "2. There are more Generation Y (Millenials) that took the survey than any other self-identified generation in the data set\n",
    "\n",
    "\n",
    "With this information, I'm going to focus my next visualization on Gen Y (Millenials) to understand these students more. \n"
   ]
  },
  {
   "cell_type": "markdown",
   "metadata": {},
   "source": [
    "### Exploring Question 10, \"<i>What generation do you most identify with?</i>\" and Question 12 <i>\"What type of food do you most prefer?\"</i>\n"
   ]
  },
  {
   "cell_type": "markdown",
   "metadata": {},
   "source": [
    "#### Regression plot\n",
    "\n",
    "Seaborn offers a great visualization library and compliments Matplotlib. For this visualization, I will use the `regplot()` function to create a linear regression model to compare Gen Y (Millenials) with <b>Q12</b>, which is the response rating to the survey question \"<i>What type of food do you most prefer?</i>\". Three choices were given for each student to rate their preference for savory, sweet, and spicy food. \n",
    "\n",
    "Let's break down each flavor component beginning with savory ratings. "
   ]
  },
  {
   "cell_type": "code",
   "execution_count": 85,
   "metadata": {},
   "outputs": [
    {
     "data": {
      "image/png": "[encoded data removed]",
      "text/plain": [
       "<Figure size 720x360 with 1 Axes>"
      ]
     },
     "metadata": {},
     "output_type": "display_data"
    }
   ],
   "source": [
    "# importing the seaborn library\n",
    "import seaborn as sns\n",
    "\n",
    "# converting string variables to integer type\n",
    "df[[\"Q12_Savory\",'Q12_Spicy','Q12_Sweet','Q10_Mill']] = df[[\"Q12_Savory\",'Q12_Spicy','Q12_Sweet','Q10_Mill']].astype(int)\n",
    "\n",
    "# plotting\n",
    "sns.set_style('ticks')\n",
    "fig, ax = plt.subplots()\n",
    "fig.set_size_inches(18.5, 10.5)\n",
    "sns.despine()\n",
    "\n",
    "# plotting comparison\n",
    "sns.regplot(x=\"Q12_Savory\", y=\"Q10_Mill\", color='red',data=df, label=\"$Savory$\")\n",
    "\n",
    "\n",
    "# labeling\n",
    "plt.xlabel(\"Savory Food Rating\")\n",
    "plt.ylabel(\"Rating Identified with Millenial Generation\")\n",
    "plt.title(\"Class Survey - Question #10 and #12\")\n",
    "plt.ylim(0,)\n",
    "plt.legend()\n",
    "\n",
    "fig.set_size_inches(10,5)\n"
   ]
  },
  {
   "cell_type": "markdown",
   "metadata": {},
   "source": [
    "It seems like Gen Y (Millenials) rated their savory preferences somewhere in the middle with a max preference rating of up to 60. There is a slightly negative correlation in the regression line, meaning as the rating for identifed Gen Y (Millenials) increases, preference for savory foods slightly decreases. \n",
    "\n",
    "Let's keep going and compare sweet food preferences."
   ]
  },
  {
   "cell_type": "code",
   "execution_count": 86,
   "metadata": {},
   "outputs": [
    {
     "data": {
      "image/png": "[encoded data removed]",
      "text/plain": [
       "<Figure size 720x360 with 1 Axes>"
      ]
     },
     "metadata": {},
     "output_type": "display_data"
    }
   ],
   "source": [
    "# plotting\n",
    "sns.set_style('ticks')\n",
    "fig, ax = plt.subplots()\n",
    "fig.set_size_inches(18.5, 10.5)\n",
    "sns.despine()\n",
    "\n",
    "# plotting comparison\n",
    "sns.regplot(x=\"Q12_Sweet\", y=\"Q10_Mill\", data=df, color='blue', label=\"$Sweet$\")\n",
    "\n",
    "# labeling\n",
    "plt.xlabel(\"Sweet Food Rating\")\n",
    "plt.ylabel(\"Rating Identified with Millenial Generation\")\n",
    "plt.title(\"Class Survey - Question #10 and #12\")\n",
    "plt.ylim(0,)\n",
    "plt.legend()\n",
    "\n",
    "fig.set_size_inches(10,5)\n"
   ]
  },
  {
   "cell_type": "markdown",
   "metadata": {},
   "source": [
    "Now the regression here is a bit more clear to us. There is a negative correlation between Gen Y (Millenials) ratings and sweet food rating. The higher the rating for identifed Gen Y (Millenials), the less they rated sweet food preference. \n",
    "\n",
    "Lastly, we'll take a look at spicy food preference ratings."
   ]
  },
  {
   "cell_type": "code",
   "execution_count": 87,
   "metadata": {},
   "outputs": [
    {
     "data": {
      "image/png": "[encoded data removed]",
      "text/plain": [
       "<Figure size 720x360 with 1 Axes>"
      ]
     },
     "metadata": {},
     "output_type": "display_data"
    }
   ],
   "source": [
    "# plotting\n",
    "sns.set_style('ticks')\n",
    "fig, ax = plt.subplots()\n",
    "fig.set_size_inches(18.5, 10.5)\n",
    "sns.despine()\n",
    "\n",
    "# plotting comparison\n",
    "sns.regplot(x=\"Q12_Spicy\", y=\"Q10_Mill\", data=df, color='springgreen',label=\"$Spicy$\")\n",
    "\n",
    "# labeling\n",
    "plt.xlabel(\"Spicy Food Rating\")\n",
    "plt.ylabel(\"Rating Identified with Millenial Generation\")\n",
    "plt.title(\"Class Survey - Question #10 and #12\")\n",
    "plt.ylim(0,)\n",
    "plt.legend()\n",
    "\n",
    "fig.set_size_inches(10,5)\n"
   ]
  },
  {
   "cell_type": "markdown",
   "metadata": {},
   "source": [
    "This graph is showing us the opposite of what we have seen so far. There is a positive correlation between ratings for identifed Gen Y (Millenials) and spicy food preference ratings. That means that the higher a student rated themselves as a Gen Y (Millenial), the more they liked spicy food. \n",
    "\n",
    "Let's put this all together now and create one plot with all the different food ratings. "
   ]
  },
  {
   "cell_type": "code",
   "execution_count": 88,
   "metadata": {},
   "outputs": [
    {
     "data": {
      "image/png": "[encoded data removed]",
      "text/plain": [
       "<Figure size 720x360 with 1 Axes>"
      ]
     },
     "metadata": {},
     "output_type": "display_data"
    }
   ],
   "source": [
    "# plotting\n",
    "sns.set_style('ticks')\n",
    "fig, ax = plt.subplots()\n",
    "fig.set_size_inches(18.5, 10.5)\n",
    "sns.despine()\n",
    "\n",
    "# plotting comparison\n",
    "sns.regplot(x=\"Q12_Savory\", y=\"Q10_Mill\", color='red',data=df, label=\"$Savory$\")\n",
    "sns.regplot(x=\"Q12_Spicy\", y=\"Q10_Mill\", data=df, color='springgreen',label=\"$Spicy$\")\n",
    "sns.regplot(x=\"Q12_Sweet\", y=\"Q10_Mill\", data=df, color='blue', label=\"$Sweet$\")\n",
    "\n",
    "# labeling\n",
    "plt.xlabel(\"Food Rating\")\n",
    "plt.ylabel(\"Rating Identified with Millenial Generation\")\n",
    "plt.title(\"Class Survey - Question #10 and #12\")\n",
    "plt.ylim(0,)\n",
    "plt.legend()\n",
    "\n",
    "fig.set_size_inches(10,5)\n"
   ]
  },
  {
   "cell_type": "markdown",
   "metadata": {},
   "source": [
    "This figure makes it a lot easier to understand all the different food preference ratings for Gen Y (Millenials) using only one plot instead of three. We're able to see the patterns more clearly and visualize all the linear relationships. "
   ]
  },
  {
   "cell_type": "markdown",
   "metadata": {},
   "source": [
    "### Scatterplot Matrix\n",
    "\n",
    "A scatterplot matrix or SPLOM is a matrix associated to <i>n</i> numerical arrays of the same length. We can use a scatterplot matrix to look at the relationship between all generations and food preferences. \n",
    "\n",
    "To create a SPLOM, we have to import the Plotly library to create the figure.\n",
    "\n",
    "Resource: https://plotly.com/python/splom/"
   ]
  },
  {
   "cell_type": "code",
   "execution_count": 96,
   "metadata": {},
   "outputs": [
    {
     "data": {
      "application/vnd.plotly.v1+json": {
       "config": {
        "plotlyServerURL": "https://plot.ly"
       },
       "data": [
        {
         "dimensions": [
          {
           "axis": {
            "matches": true
           },
           "label": "Q12 Spicy",
           "values": [
            35,
            30,
            52,
            30,
            30,
            50,
            46
           ]
          },
          {
           "axis": {
            "matches": true
           },
           "label": "Q12 Savory",
           "values": [
            27,
            30,
            48,
            50,
            35,
            25,
            30
           ]
          },
          {
           "axis": {
            "matches": true
           },
           "label": "Q12 Sweet",
           "values": [
            38,
            40,
            0,
            20,
            35,
            25,
            24
           ]
          }
         ],
         "hovertemplate": "Q10 Ans=Gen X<br>%{xaxis.title.text}=%{x}<br>%{yaxis.title.text}=%{y}<extra></extra>",
         "legendgroup": "Gen X",
         "marker": {
          "color": "#636efa",
          "symbol": "circle"
         },
         "name": "Gen X",
         "showlegend": true,
         "type": "splom"
        },
        {
         "dimensions": [
          {
           "axis": {
            "matches": true
           },
           "label": "Q12 Spicy",
           "values": [
            45,
            30,
            31,
            17,
            27,
            35,
            33,
            16,
            50,
            8,
            30,
            0,
            33,
            100,
            24,
            69,
            10,
            15,
            15,
            0,
            29,
            8,
            30,
            20,
            25,
            18,
            19
           ]
          },
          {
           "axis": {
            "matches": true
           },
           "label": "Q12 Savory",
           "values": [
            31,
            50,
            33,
            41,
            57,
            32,
            34,
            34,
            22,
            49,
            30,
            0,
            18,
            0,
            22,
            31,
            45,
            45,
            53,
            53,
            26,
            42,
            0,
            45,
            50,
            51,
            52
           ]
          },
          {
           "axis": {
            "matches": true
           },
           "label": "Q12 Sweet",
           "values": [
            24,
            20,
            36,
            42,
            16,
            33,
            33,
            50,
            28,
            43,
            40,
            100,
            49,
            0,
            54,
            0,
            45,
            40,
            32,
            47,
            45,
            50,
            70,
            35,
            25,
            31,
            29
           ]
          }
         ],
         "hovertemplate": "Q10 Ans=Millennials (Gen Y)<br>%{xaxis.title.text}=%{x}<br>%{yaxis.title.text}=%{y}<extra></extra>",
         "legendgroup": "Millennials (Gen Y)",
         "marker": {
          "color": "#EF553B",
          "symbol": "circle"
         },
         "name": "Millennials (Gen Y)",
         "showlegend": true,
         "type": "splom"
        },
        {
         "dimensions": [
          {
           "axis": {
            "matches": true
           },
           "label": "Q12 Spicy",
           "values": [
            30,
            31,
            0,
            9,
            30
           ]
          },
          {
           "axis": {
            "matches": true
           },
           "label": "Q12 Savory",
           "values": [
            40,
            14,
            60,
            37,
            45
           ]
          },
          {
           "axis": {
            "matches": true
           },
           "label": "Q12 Sweet",
           "values": [
            30,
            55,
            40,
            54,
            25
           ]
          }
         ],
         "hovertemplate": "Q10 Ans=Gen Z<br>%{xaxis.title.text}=%{x}<br>%{yaxis.title.text}=%{y}<extra></extra>",
         "legendgroup": "Gen Z",
         "marker": {
          "color": "#00cc96",
          "symbol": "circle"
         },
         "name": "Gen Z",
         "showlegend": true,
         "type": "splom"
        },
        {
         "dimensions": [
          {
           "axis": {
            "matches": true
           },
           "label": "Q12 Spicy",
           "values": [
            0,
            27
           ]
          },
          {
           "axis": {
            "matches": true
           },
           "label": "Q12 Savory",
           "values": [
            8,
            38
           ]
          },
          {
           "axis": {
            "matches": true
           },
           "label": "Q12 Sweet",
           "values": [
            92,
            35
           ]
          }
         ],
         "hovertemplate": "Q10 Ans=the Greatest generation<br>%{xaxis.title.text}=%{x}<br>%{yaxis.title.text}=%{y}<extra></extra>",
         "legendgroup": "the Greatest generation",
         "marker": {
          "color": "#ab63fa",
          "symbol": "circle"
         },
         "name": "the Greatest generation",
         "showlegend": true,
         "type": "splom"
        }
       ],
       "layout": {
        "autosize": true,
        "dragmode": "select",
        "legend": {
         "title": {
          "text": "Q10 Ans"
         },
         "tracegroupgap": 0
        },
        "margin": {
         "t": 60
        },
        "template": {
         "data": {
          "bar": [
           {
            "error_x": {
             "color": "#2a3f5f"
            },
            "error_y": {
             "color": "#2a3f5f"
            },
            "marker": {
             "line": {
              "color": "#E5ECF6",
              "width": 0.5
             }
            },
            "type": "bar"
           }
          ],
          "barpolar": [
           {
            "marker": {
             "line": {
              "color": "#E5ECF6",
              "width": 0.5
             }
            },
            "type": "barpolar"
           }
          ],
          "carpet": [
           {
            "aaxis": {
             "endlinecolor": "#2a3f5f",
             "gridcolor": "white",
             "linecolor": "white",
             "minorgridcolor": "white",
             "startlinecolor": "#2a3f5f"
            },
            "baxis": {
             "endlinecolor": "#2a3f5f",
             "gridcolor": "white",
             "linecolor": "white",
             "minorgridcolor": "white",
             "startlinecolor": "#2a3f5f"
            },
            "type": "carpet"
           }
          ],
          "choropleth": [
           {
            "colorbar": {
             "outlinewidth": 0,
             "ticks": ""
            },
            "type": "choropleth"
           }
          ],
          "contour": [
           {
            "colorbar": {
             "outlinewidth": 0,
             "ticks": ""
            },
            "colorscale": [
             [
              0,
              "#0d0887"
             ],
             [
              0.1111111111111111,
              "#46039f"
             ],
             [
              0.2222222222222222,
              "#7201a8"
             ],
             [
              0.3333333333333333,
              "#9c179e"
             ],
             [
              0.4444444444444444,
              "#bd3786"
             ],
             [
              0.5555555555555556,
              "#d8576b"
             ],
             [
              0.6666666666666666,
              "#ed7953"
             ],
             [
              0.7777777777777778,
              "#fb9f3a"
             ],
             [
              0.8888888888888888,
              "#fdca26"
             ],
             [
              1,
              "#f0f921"
             ]
            ],
            "type": "contour"
           }
          ],
          "contourcarpet": [
           {
            "colorbar": {
             "outlinewidth": 0,
             "ticks": ""
            },
            "type": "contourcarpet"
           }
          ],
          "heatmap": [
           {
            "colorbar": {
             "outlinewidth": 0,
             "ticks": ""
            },
            "colorscale": [
             [
              0,
              "#0d0887"
             ],
             [
              0.1111111111111111,
              "#46039f"
             ],
             [
              0.2222222222222222,
              "#7201a8"
             ],
             [
              0.3333333333333333,
              "#9c179e"
             ],
             [
              0.4444444444444444,
              "#bd3786"
             ],
             [
              0.5555555555555556,
              "#d8576b"
             ],
             [
              0.6666666666666666,
              "#ed7953"
             ],
             [
              0.7777777777777778,
              "#fb9f3a"
             ],
             [
              0.8888888888888888,
              "#fdca26"
             ],
             [
              1,
              "#f0f921"
             ]
            ],
            "type": "heatmap"
           }
          ],
          "heatmapgl": [
           {
            "colorbar": {
             "outlinewidth": 0,
             "ticks": ""
            },
            "colorscale": [
             [
              0,
              "#0d0887"
             ],
             [
              0.1111111111111111,
              "#46039f"
             ],
             [
              0.2222222222222222,
              "#7201a8"
             ],
             [
              0.3333333333333333,
              "#9c179e"
             ],
             [
              0.4444444444444444,
              "#bd3786"
             ],
             [
              0.5555555555555556,
              "#d8576b"
             ],
             [
              0.6666666666666666,
              "#ed7953"
             ],
             [
              0.7777777777777778,
              "#fb9f3a"
             ],
             [
              0.8888888888888888,
              "#fdca26"
             ],
             [
              1,
              "#f0f921"
             ]
            ],
            "type": "heatmapgl"
           }
          ],
          "histogram": [
           {
            "marker": {
             "colorbar": {
              "outlinewidth": 0,
              "ticks": ""
             }
            },
            "type": "histogram"
           }
          ],
          "histogram2d": [
           {
            "colorbar": {
             "outlinewidth": 0,
             "ticks": ""
            },
            "colorscale": [
             [
              0,
              "#0d0887"
             ],
             [
              0.1111111111111111,
              "#46039f"
             ],
             [
              0.2222222222222222,
              "#7201a8"
             ],
             [
              0.3333333333333333,
              "#9c179e"
             ],
             [
              0.4444444444444444,
              "#bd3786"
             ],
             [
              0.5555555555555556,
              "#d8576b"
             ],
             [
              0.6666666666666666,
              "#ed7953"
             ],
             [
              0.7777777777777778,
              "#fb9f3a"
             ],
             [
              0.8888888888888888,
              "#fdca26"
             ],
             [
              1,
              "#f0f921"
             ]
            ],
            "type": "histogram2d"
           }
          ],
          "histogram2dcontour": [
           {
            "colorbar": {
             "outlinewidth": 0,
             "ticks": ""
            },
            "colorscale": [
             [
              0,
              "#0d0887"
             ],
             [
              0.1111111111111111,
              "#46039f"
             ],
             [
              0.2222222222222222,
              "#7201a8"
             ],
             [
              0.3333333333333333,
              "#9c179e"
             ],
             [
              0.4444444444444444,
              "#bd3786"
             ],
             [
              0.5555555555555556,
              "#d8576b"
             ],
             [
              0.6666666666666666,
              "#ed7953"
             ],
             [
              0.7777777777777778,
              "#fb9f3a"
             ],
             [
              0.8888888888888888,
              "#fdca26"
             ],
             [
              1,
              "#f0f921"
             ]
            ],
            "type": "histogram2dcontour"
           }
          ],
          "mesh3d": [
           {
            "colorbar": {
             "outlinewidth": 0,
             "ticks": ""
            },
            "type": "mesh3d"
           }
          ],
          "parcoords": [
           {
            "line": {
             "colorbar": {
              "outlinewidth": 0,
              "ticks": ""
             }
            },
            "type": "parcoords"
           }
          ],
          "pie": [
           {
            "automargin": true,
            "type": "pie"
           }
          ],
          "scatter": [
           {
            "marker": {
             "colorbar": {
              "outlinewidth": 0,
              "ticks": ""
             }
            },
            "type": "scatter"
           }
          ],
          "scatter3d": [
           {
            "line": {
             "colorbar": {
              "outlinewidth": 0,
              "ticks": ""
             }
            },
            "marker": {
             "colorbar": {
              "outlinewidth": 0,
              "ticks": ""
             }
            },
            "type": "scatter3d"
           }
          ],
          "scattercarpet": [
           {
            "marker": {
             "colorbar": {
              "outlinewidth": 0,
              "ticks": ""
             }
            },
            "type": "scattercarpet"
           }
          ],
          "scattergeo": [
           {
            "marker": {
             "colorbar": {
              "outlinewidth": 0,
              "ticks": ""
             }
            },
            "type": "scattergeo"
           }
          ],
          "scattergl": [
           {
            "marker": {
             "colorbar": {
              "outlinewidth": 0,
              "ticks": ""
             }
            },
            "type": "scattergl"
           }
          ],
          "scattermapbox": [
           {
            "marker": {
             "colorbar": {
              "outlinewidth": 0,
              "ticks": ""
             }
            },
            "type": "scattermapbox"
           }
          ],
          "scatterpolar": [
           {
            "marker": {
             "colorbar": {
              "outlinewidth": 0,
              "ticks": ""
             }
            },
            "type": "scatterpolar"
           }
          ],
          "scatterpolargl": [
           {
            "marker": {
             "colorbar": {
              "outlinewidth": 0,
              "ticks": ""
             }
            },
            "type": "scatterpolargl"
           }
          ],
          "scatterternary": [
           {
            "marker": {
             "colorbar": {
              "outlinewidth": 0,
              "ticks": ""
             }
            },
            "type": "scatterternary"
           }
          ],
          "surface": [
           {
            "colorbar": {
             "outlinewidth": 0,
             "ticks": ""
            },
            "colorscale": [
             [
              0,
              "#0d0887"
             ],
             [
              0.1111111111111111,
              "#46039f"
             ],
             [
              0.2222222222222222,
              "#7201a8"
             ],
             [
              0.3333333333333333,
              "#9c179e"
             ],
             [
              0.4444444444444444,
              "#bd3786"
             ],
             [
              0.5555555555555556,
              "#d8576b"
             ],
             [
              0.6666666666666666,
              "#ed7953"
             ],
             [
              0.7777777777777778,
              "#fb9f3a"
             ],
             [
              0.8888888888888888,
              "#fdca26"
             ],
             [
              1,
              "#f0f921"
             ]
            ],
            "type": "surface"
           }
          ],
          "table": [
           {
            "cells": {
             "fill": {
              "color": "#EBF0F8"
             },
             "line": {
              "color": "white"
             }
            },
            "header": {
             "fill": {
              "color": "#C8D4E3"
             },
             "line": {
              "color": "white"
             }
            },
            "type": "table"
           }
          ]
         },
         "layout": {
          "annotationdefaults": {
           "arrowcolor": "#2a3f5f",
           "arrowhead": 0,
           "arrowwidth": 1
          },
          "autotypenumbers": "strict",
          "coloraxis": {
           "colorbar": {
            "outlinewidth": 0,
            "ticks": ""
           }
          },
          "colorscale": {
           "diverging": [
            [
             0,
             "#8e0152"
            ],
            [
             0.1,
             "#c51b7d"
            ],
            [
             0.2,
             "#de77ae"
            ],
            [
             0.3,
             "#f1b6da"
            ],
            [
             0.4,
             "#fde0ef"
            ],
            [
             0.5,
             "#f7f7f7"
            ],
            [
             0.6,
             "#e6f5d0"
            ],
            [
             0.7,
             "#b8e186"
            ],
            [
             0.8,
             "#7fbc41"
            ],
            [
             0.9,
             "#4d9221"
            ],
            [
             1,
             "#276419"
            ]
           ],
           "sequential": [
            [
             0,
             "#0d0887"
            ],
            [
             0.1111111111111111,
             "#46039f"
            ],
            [
             0.2222222222222222,
             "#7201a8"
            ],
            [
             0.3333333333333333,
             "#9c179e"
            ],
            [
             0.4444444444444444,
             "#bd3786"
            ],
            [
             0.5555555555555556,
             "#d8576b"
            ],
            [
             0.6666666666666666,
             "#ed7953"
            ],
            [
             0.7777777777777778,
             "#fb9f3a"
            ],
            [
             0.8888888888888888,
             "#fdca26"
            ],
            [
             1,
             "#f0f921"
            ]
           ],
           "sequentialminus": [
            [
             0,
             "#0d0887"
            ],
            [
             0.1111111111111111,
             "#46039f"
            ],
            [
             0.2222222222222222,
             "#7201a8"
            ],
            [
             0.3333333333333333,
             "#9c179e"
            ],
            [
             0.4444444444444444,
             "#bd3786"
            ],
            [
             0.5555555555555556,
             "#d8576b"
            ],
            [
             0.6666666666666666,
             "#ed7953"
            ],
            [
             0.7777777777777778,
             "#fb9f3a"
            ],
            [
             0.8888888888888888,
             "#fdca26"
            ],
            [
             1,
             "#f0f921"
            ]
           ]
          },
          "colorway": [
           "#636efa",
           "#EF553B",
           "#00cc96",
           "#ab63fa",
           "#FFA15A",
           "#19d3f3",
           "#FF6692",
           "#B6E880",
           "#FF97FF",
           "#FECB52"
          ],
          "font": {
           "color": "#2a3f5f"
          },
          "geo": {
           "bgcolor": "white",
           "lakecolor": "white",
           "landcolor": "#E5ECF6",
           "showlakes": true,
           "showland": true,
           "subunitcolor": "white"
          },
          "hoverlabel": {
           "align": "left"
          },
          "hovermode": "closest",
          "mapbox": {
           "style": "light"
          },
          "paper_bgcolor": "white",
          "plot_bgcolor": "#E5ECF6",
          "polar": {
           "angularaxis": {
            "gridcolor": "white",
            "linecolor": "white",
            "ticks": ""
           },
           "bgcolor": "#E5ECF6",
           "radialaxis": {
            "gridcolor": "white",
            "linecolor": "white",
            "ticks": ""
           }
          },
          "scene": {
           "xaxis": {
            "backgroundcolor": "#E5ECF6",
            "gridcolor": "white",
            "gridwidth": 2,
            "linecolor": "white",
            "showbackground": true,
            "ticks": "",
            "zerolinecolor": "white"
           },
           "yaxis": {
            "backgroundcolor": "#E5ECF6",
            "gridcolor": "white",
            "gridwidth": 2,
            "linecolor": "white",
            "showbackground": true,
            "ticks": "",
            "zerolinecolor": "white"
           },
           "zaxis": {
            "backgroundcolor": "#E5ECF6",
            "gridcolor": "white",
            "gridwidth": 2,
            "linecolor": "white",
            "showbackground": true,
            "ticks": "",
            "zerolinecolor": "white"
           }
          },
          "shapedefaults": {
           "line": {
            "color": "#2a3f5f"
           }
          },
          "ternary": {
           "aaxis": {
            "gridcolor": "white",
            "linecolor": "white",
            "ticks": ""
           },
           "baxis": {
            "gridcolor": "white",
            "linecolor": "white",
            "ticks": ""
           },
           "bgcolor": "#E5ECF6",
           "caxis": {
            "gridcolor": "white",
            "linecolor": "white",
            "ticks": ""
           }
          },
          "title": {
           "x": 0.05
          },
          "xaxis": {
           "automargin": true,
           "gridcolor": "white",
           "linecolor": "white",
           "ticks": "",
           "title": {
            "standoff": 15
           },
           "zerolinecolor": "white",
           "zerolinewidth": 2
          },
          "yaxis": {
           "automargin": true,
           "gridcolor": "white",
           "linecolor": "white",
           "ticks": "",
           "title": {
            "standoff": 15
           },
           "zerolinecolor": "white",
           "zerolinewidth": 2
          }
         }
        },
        "xaxis": {
         "autorange": true,
         "range": [
          -10.824068018312625,
          110.82406801831263
         ],
         "type": "linear"
        },
        "xaxis2": {
         "autorange": true,
         "range": [
          -6.494440810987576,
          66.49444081098757
         ],
         "type": "linear"
        },
        "xaxis3": {
         "autorange": true,
         "range": [
          -10.824068018312627,
          110.82406801831263
         ],
         "type": "linear"
        },
        "yaxis": {
         "autorange": true,
         "range": [
          -10.824068018312625,
          110.82406801831263
         ],
         "type": "linear"
        },
        "yaxis2": {
         "autorange": true,
         "range": [
          -6.494440810987576,
          66.49444081098757
         ],
         "type": "linear"
        },
        "yaxis3": {
         "autorange": true,
         "range": [
          -10.824068018312627,
          110.82406801831263
         ],
         "type": "linear"
        }
       }
      },
      "image/png": "[encoded data removed]",
      "text/html": [
       "<div>                            <div id=\"76b49c20-7b9c-4bf5-bc1a-6d222298baf3\" class=\"plotly-graph-div\" style=\"height:525px; width:100%;\"></div>            <script type=\"text/javascript\">                require([\"plotly\"], function(Plotly) {                    window.PLOTLYENV=window.PLOTLYENV || {};                                    if (document.getElementById(\"76b49c20-7b9c-4bf5-bc1a-6d222298baf3\")) {                    Plotly.newPlot(                        \"76b49c20-7b9c-4bf5-bc1a-6d222298baf3\",                        [{\"dimensions\": [{\"axis\": {\"matches\": true}, \"label\": \"Q12 Spicy\", \"values\": [35, 30, 52, 30, 30, 50, 46]}, {\"axis\": {\"matches\": true}, \"label\": \"Q12 Savory\", \"values\": [27, 30, 48, 50, 35, 25, 30]}, {\"axis\": {\"matches\": true}, \"label\": \"Q12 Sweet\", \"values\": [38, 40, 0, 20, 35, 25, 24]}], \"hovertemplate\": \"Q10 Ans=Gen X<br>%{xaxis.title.text}=%{x}<br>%{yaxis.title.text}=%{y}<extra></extra>\", \"legendgroup\": \"Gen X\", \"marker\": {\"color\": \"#636efa\", \"symbol\": \"circle\"}, \"name\": \"Gen X\", \"showlegend\": true, \"type\": \"splom\"}, {\"dimensions\": [{\"axis\": {\"matches\": true}, \"label\": \"Q12 Spicy\", \"values\": [45, 30, 31, 17, 27, 35, 33, 16, 50, 8, 30, 0, 33, 100, 24, 69, 10, 15, 15, 0, 29, 8, 30, 20, 25, 18, 19]}, {\"axis\": {\"matches\": true}, \"label\": \"Q12 Savory\", \"values\": [31, 50, 33, 41, 57, 32, 34, 34, 22, 49, 30, 0, 18, 0, 22, 31, 45, 45, 53, 53, 26, 42, 0, 45, 50, 51, 52]}, {\"axis\": {\"matches\": true}, \"label\": \"Q12 Sweet\", \"values\": [24, 20, 36, 42, 16, 33, 33, 50, 28, 43, 40, 100, 49, 0, 54, 0, 45, 40, 32, 47, 45, 50, 70, 35, 25, 31, 29]}], \"hovertemplate\": \"Q10 Ans=Millennials (Gen Y)<br>%{xaxis.title.text}=%{x}<br>%{yaxis.title.text}=%{y}<extra></extra>\", \"legendgroup\": \"Millennials (Gen Y)\", \"marker\": {\"color\": \"#EF553B\", \"symbol\": \"circle\"}, \"name\": \"Millennials (Gen Y)\", \"showlegend\": true, \"type\": \"splom\"}, {\"dimensions\": [{\"axis\": {\"matches\": true}, \"label\": \"Q12 Spicy\", \"values\": [30, 31, 0, 9, 30]}, {\"axis\": {\"matches\": true}, \"label\": \"Q12 Savory\", \"values\": [40, 14, 60, 37, 45]}, {\"axis\": {\"matches\": true}, \"label\": \"Q12 Sweet\", \"values\": [30, 55, 40, 54, 25]}], \"hovertemplate\": \"Q10 Ans=Gen Z<br>%{xaxis.title.text}=%{x}<br>%{yaxis.title.text}=%{y}<extra></extra>\", \"legendgroup\": \"Gen Z\", \"marker\": {\"color\": \"#00cc96\", \"symbol\": \"circle\"}, \"name\": \"Gen Z\", \"showlegend\": true, \"type\": \"splom\"}, {\"dimensions\": [{\"axis\": {\"matches\": true}, \"label\": \"Q12 Spicy\", \"values\": [0, 27]}, {\"axis\": {\"matches\": true}, \"label\": \"Q12 Savory\", \"values\": [8, 38]}, {\"axis\": {\"matches\": true}, \"label\": \"Q12 Sweet\", \"values\": [92, 35]}], \"hovertemplate\": \"Q10 Ans=the Greatest generation<br>%{xaxis.title.text}=%{x}<br>%{yaxis.title.text}=%{y}<extra></extra>\", \"legendgroup\": \"the Greatest generation\", \"marker\": {\"color\": \"#ab63fa\", \"symbol\": \"circle\"}, \"name\": \"the Greatest generation\", \"showlegend\": true, \"type\": \"splom\"}],                        {\"dragmode\": \"select\", \"legend\": {\"title\": {\"text\": \"Q10 Ans\"}, \"tracegroupgap\": 0}, \"margin\": {\"t\": 60}, \"template\": {\"data\": {\"bar\": [{\"error_x\": {\"color\": \"#2a3f5f\"}, \"error_y\": {\"color\": \"#2a3f5f\"}, \"marker\": {\"line\": {\"color\": \"#E5ECF6\", \"width\": 0.5}}, \"type\": \"bar\"}], \"barpolar\": [{\"marker\": {\"line\": {\"color\": \"#E5ECF6\", \"width\": 0.5}}, \"type\": \"barpolar\"}], \"carpet\": [{\"aaxis\": {\"endlinecolor\": \"#2a3f5f\", \"gridcolor\": \"white\", \"linecolor\": \"white\", \"minorgridcolor\": \"white\", \"startlinecolor\": \"#2a3f5f\"}, \"baxis\": {\"endlinecolor\": \"#2a3f5f\", \"gridcolor\": \"white\", \"linecolor\": \"white\", \"minorgridcolor\": \"white\", \"startlinecolor\": \"#2a3f5f\"}, \"type\": \"carpet\"}], \"choropleth\": [{\"colorbar\": {\"outlinewidth\": 0, \"ticks\": \"\"}, \"type\": \"choropleth\"}], \"contour\": [{\"colorbar\": {\"outlinewidth\": 0, \"ticks\": \"\"}, \"colorscale\": [[0.0, \"#0d0887\"], [0.1111111111111111, \"#46039f\"], [0.2222222222222222, \"#7201a8\"], [0.3333333333333333, \"#9c179e\"], [0.4444444444444444, \"#bd3786\"], [0.5555555555555556, \"#d8576b\"], [0.6666666666666666, \"#ed7953\"], [0.7777777777777778, \"#fb9f3a\"], [0.8888888888888888, \"#fdca26\"], [1.0, \"#f0f921\"]], \"type\": \"contour\"}], \"contourcarpet\": [{\"colorbar\": {\"outlinewidth\": 0, \"ticks\": \"\"}, \"type\": \"contourcarpet\"}], \"heatmap\": [{\"colorbar\": {\"outlinewidth\": 0, \"ticks\": \"\"}, \"colorscale\": [[0.0, \"#0d0887\"], [0.1111111111111111, \"#46039f\"], [0.2222222222222222, \"#7201a8\"], [0.3333333333333333, \"#9c179e\"], [0.4444444444444444, \"#bd3786\"], [0.5555555555555556, \"#d8576b\"], [0.6666666666666666, \"#ed7953\"], [0.7777777777777778, \"#fb9f3a\"], [0.8888888888888888, \"#fdca26\"], [1.0, \"#f0f921\"]], \"type\": \"heatmap\"}], \"heatmapgl\": [{\"colorbar\": {\"outlinewidth\": 0, \"ticks\": \"\"}, \"colorscale\": [[0.0, \"#0d0887\"], [0.1111111111111111, \"#46039f\"], [0.2222222222222222, \"#7201a8\"], [0.3333333333333333, \"#9c179e\"], [0.4444444444444444, \"#bd3786\"], [0.5555555555555556, \"#d8576b\"], [0.6666666666666666, \"#ed7953\"], [0.7777777777777778, \"#fb9f3a\"], [0.8888888888888888, \"#fdca26\"], [1.0, \"#f0f921\"]], \"type\": \"heatmapgl\"}], \"histogram\": [{\"marker\": {\"colorbar\": {\"outlinewidth\": 0, \"ticks\": \"\"}}, \"type\": \"histogram\"}], \"histogram2d\": [{\"colorbar\": {\"outlinewidth\": 0, \"ticks\": \"\"}, \"colorscale\": [[0.0, \"#0d0887\"], [0.1111111111111111, \"#46039f\"], [0.2222222222222222, \"#7201a8\"], [0.3333333333333333, \"#9c179e\"], [0.4444444444444444, \"#bd3786\"], [0.5555555555555556, \"#d8576b\"], [0.6666666666666666, \"#ed7953\"], [0.7777777777777778, \"#fb9f3a\"], [0.8888888888888888, \"#fdca26\"], [1.0, \"#f0f921\"]], \"type\": \"histogram2d\"}], \"histogram2dcontour\": [{\"colorbar\": {\"outlinewidth\": 0, \"ticks\": \"\"}, \"colorscale\": [[0.0, \"#0d0887\"], [0.1111111111111111, \"#46039f\"], [0.2222222222222222, \"#7201a8\"], [0.3333333333333333, \"#9c179e\"], [0.4444444444444444, \"#bd3786\"], [0.5555555555555556, \"#d8576b\"], [0.6666666666666666, \"#ed7953\"], [0.7777777777777778, \"#fb9f3a\"], [0.8888888888888888, \"#fdca26\"], [1.0, \"#f0f921\"]], \"type\": \"histogram2dcontour\"}], \"mesh3d\": [{\"colorbar\": {\"outlinewidth\": 0, \"ticks\": \"\"}, \"type\": \"mesh3d\"}], \"parcoords\": [{\"line\": {\"colorbar\": {\"outlinewidth\": 0, \"ticks\": \"\"}}, \"type\": \"parcoords\"}], \"pie\": [{\"automargin\": true, \"type\": \"pie\"}], \"scatter\": [{\"marker\": {\"colorbar\": {\"outlinewidth\": 0, \"ticks\": \"\"}}, \"type\": \"scatter\"}], \"scatter3d\": [{\"line\": {\"colorbar\": {\"outlinewidth\": 0, \"ticks\": \"\"}}, \"marker\": {\"colorbar\": {\"outlinewidth\": 0, \"ticks\": \"\"}}, \"type\": \"scatter3d\"}], \"scattercarpet\": [{\"marker\": {\"colorbar\": {\"outlinewidth\": 0, \"ticks\": \"\"}}, \"type\": \"scattercarpet\"}], \"scattergeo\": [{\"marker\": {\"colorbar\": {\"outlinewidth\": 0, \"ticks\": \"\"}}, \"type\": \"scattergeo\"}], \"scattergl\": [{\"marker\": {\"colorbar\": {\"outlinewidth\": 0, \"ticks\": \"\"}}, \"type\": \"scattergl\"}], \"scattermapbox\": [{\"marker\": {\"colorbar\": {\"outlinewidth\": 0, \"ticks\": \"\"}}, \"type\": \"scattermapbox\"}], \"scatterpolar\": [{\"marker\": {\"colorbar\": {\"outlinewidth\": 0, \"ticks\": \"\"}}, \"type\": \"scatterpolar\"}], \"scatterpolargl\": [{\"marker\": {\"colorbar\": {\"outlinewidth\": 0, \"ticks\": \"\"}}, \"type\": \"scatterpolargl\"}], \"scatterternary\": [{\"marker\": {\"colorbar\": {\"outlinewidth\": 0, \"ticks\": \"\"}}, \"type\": \"scatterternary\"}], \"surface\": [{\"colorbar\": {\"outlinewidth\": 0, \"ticks\": \"\"}, \"colorscale\": [[0.0, \"#0d0887\"], [0.1111111111111111, \"#46039f\"], [0.2222222222222222, \"#7201a8\"], [0.3333333333333333, \"#9c179e\"], [0.4444444444444444, \"#bd3786\"], [0.5555555555555556, \"#d8576b\"], [0.6666666666666666, \"#ed7953\"], [0.7777777777777778, \"#fb9f3a\"], [0.8888888888888888, \"#fdca26\"], [1.0, \"#f0f921\"]], \"type\": \"surface\"}], \"table\": [{\"cells\": {\"fill\": {\"color\": \"#EBF0F8\"}, \"line\": {\"color\": \"white\"}}, \"header\": {\"fill\": {\"color\": \"#C8D4E3\"}, \"line\": {\"color\": \"white\"}}, \"type\": \"table\"}]}, \"layout\": {\"annotationdefaults\": {\"arrowcolor\": \"#2a3f5f\", \"arrowhead\": 0, \"arrowwidth\": 1}, \"autotypenumbers\": \"strict\", \"coloraxis\": {\"colorbar\": {\"outlinewidth\": 0, \"ticks\": \"\"}}, \"colorscale\": {\"diverging\": [[0, \"#8e0152\"], [0.1, \"#c51b7d\"], [0.2, \"#de77ae\"], [0.3, \"#f1b6da\"], [0.4, \"#fde0ef\"], [0.5, \"#f7f7f7\"], [0.6, \"#e6f5d0\"], [0.7, \"#b8e186\"], [0.8, \"#7fbc41\"], [0.9, \"#4d9221\"], [1, \"#276419\"]], \"sequential\": [[0.0, \"#0d0887\"], [0.1111111111111111, \"#46039f\"], [0.2222222222222222, \"#7201a8\"], [0.3333333333333333, \"#9c179e\"], [0.4444444444444444, \"#bd3786\"], [0.5555555555555556, \"#d8576b\"], [0.6666666666666666, \"#ed7953\"], [0.7777777777777778, \"#fb9f3a\"], [0.8888888888888888, \"#fdca26\"], [1.0, \"#f0f921\"]], \"sequentialminus\": [[0.0, \"#0d0887\"], [0.1111111111111111, \"#46039f\"], [0.2222222222222222, \"#7201a8\"], [0.3333333333333333, \"#9c179e\"], [0.4444444444444444, \"#bd3786\"], [0.5555555555555556, \"#d8576b\"], [0.6666666666666666, \"#ed7953\"], [0.7777777777777778, \"#fb9f3a\"], [0.8888888888888888, \"#fdca26\"], [1.0, \"#f0f921\"]]}, \"colorway\": [\"#636efa\", \"#EF553B\", \"#00cc96\", \"#ab63fa\", \"#FFA15A\", \"#19d3f3\", \"#FF6692\", \"#B6E880\", \"#FF97FF\", \"#FECB52\"], \"font\": {\"color\": \"#2a3f5f\"}, \"geo\": {\"bgcolor\": \"white\", \"lakecolor\": \"white\", \"landcolor\": \"#E5ECF6\", \"showlakes\": true, \"showland\": true, \"subunitcolor\": \"white\"}, \"hoverlabel\": {\"align\": \"left\"}, \"hovermode\": \"closest\", \"mapbox\": {\"style\": \"light\"}, \"paper_bgcolor\": \"white\", \"plot_bgcolor\": \"#E5ECF6\", \"polar\": {\"angularaxis\": {\"gridcolor\": \"white\", \"linecolor\": \"white\", \"ticks\": \"\"}, \"bgcolor\": \"#E5ECF6\", \"radialaxis\": {\"gridcolor\": \"white\", \"linecolor\": \"white\", \"ticks\": \"\"}}, \"scene\": {\"xaxis\": {\"backgroundcolor\": \"#E5ECF6\", \"gridcolor\": \"white\", \"gridwidth\": 2, \"linecolor\": \"white\", \"showbackground\": true, \"ticks\": \"\", \"zerolinecolor\": \"white\"}, \"yaxis\": {\"backgroundcolor\": \"#E5ECF6\", \"gridcolor\": \"white\", \"gridwidth\": 2, \"linecolor\": \"white\", \"showbackground\": true, \"ticks\": \"\", \"zerolinecolor\": \"white\"}, \"zaxis\": {\"backgroundcolor\": \"#E5ECF6\", \"gridcolor\": \"white\", \"gridwidth\": 2, \"linecolor\": \"white\", \"showbackground\": true, \"ticks\": \"\", \"zerolinecolor\": \"white\"}}, \"shapedefaults\": {\"line\": {\"color\": \"#2a3f5f\"}}, \"ternary\": {\"aaxis\": {\"gridcolor\": \"white\", \"linecolor\": \"white\", \"ticks\": \"\"}, \"baxis\": {\"gridcolor\": \"white\", \"linecolor\": \"white\", \"ticks\": \"\"}, \"bgcolor\": \"#E5ECF6\", \"caxis\": {\"gridcolor\": \"white\", \"linecolor\": \"white\", \"ticks\": \"\"}}, \"title\": {\"x\": 0.05}, \"xaxis\": {\"automargin\": true, \"gridcolor\": \"white\", \"linecolor\": \"white\", \"ticks\": \"\", \"title\": {\"standoff\": 15}, \"zerolinecolor\": \"white\", \"zerolinewidth\": 2}, \"yaxis\": {\"automargin\": true, \"gridcolor\": \"white\", \"linecolor\": \"white\", \"ticks\": \"\", \"title\": {\"standoff\": 15}, \"zerolinecolor\": \"white\", \"zerolinewidth\": 2}}}},                        {\"responsive\": true}                    ).then(function(){\n",
       "                            \n",
       "var gd = document.getElementById('76b49c20-7b9c-4bf5-bc1a-6d222298baf3');\n",
       "var x = new MutationObserver(function (mutations, observer) {{\n",
       "        var display = window.getComputedStyle(gd).display;\n",
       "        if (!display || display === 'none') {{\n",
       "            console.log([gd, 'removed!']);\n",
       "            Plotly.purge(gd);\n",
       "            observer.disconnect();\n",
       "        }}\n",
       "}});\n",
       "\n",
       "// Listen for the removal of the full notebook cells\n",
       "var notebookContainer = gd.closest('#notebook-container');\n",
       "if (notebookContainer) {{\n",
       "    x.observe(notebookContainer, {childList: true});\n",
       "}}\n",
       "\n",
       "// Listen for the clearing of the current output cell\n",
       "var outputEl = gd.closest('.output');\n",
       "if (outputEl) {{\n",
       "    x.observe(outputEl, {childList: true});\n",
       "}}\n",
       "\n",
       "                        })                };                });            </script>        </div>"
      ]
     },
     "metadata": {},
     "output_type": "display_data"
    }
   ],
   "source": [
    "# importing plotly library\n",
    "import plotly.express as px\n",
    "\n",
    "# creating plot\n",
    "fig = px.scatter_matrix(df,\n",
    "    dimensions=[\"Q12_Spicy\", \"Q12_Savory\", \"Q12_Sweet\", ],color=\"Q10_Ans\",labels={col:col.replace('_', ' ') for col in df.columns}\n",
    "   )\n",
    "fig.show()"
   ]
  },
  {
   "cell_type": "markdown",
   "metadata": {},
   "source": [
    "Unfortunately, this plot isn't best to differentiate between generation ratings since they are not evenly distributed with many more students identifying as Gen Y (Millenial) than any other generation, but what we can see in the patterns is that a majority of the students, regardless of identification, rated higher preference for savory over sweet and spicy."
   ]
  },
  {
   "cell_type": "markdown",
   "metadata": {},
   "source": [
    "### Exploring Question 1, \"<i>How comfortable are you with your ability to debug an error in a python script?</i>\" and Question 12 <i>\"What type of food do you most prefer?\"</i>\n",
    "\n",
    "Let's look at another comparison using another regression plot. Instead, we'll compare <b>Q12</b> food rating preferences with <b>Q1</b> comfortability with debugging errors in python code to see if we can find any patterns. "
   ]
  },
  {
   "cell_type": "code",
   "execution_count": 90,
   "metadata": {},
   "outputs": [
    {
     "data": {
      "image/png": "[encoded data removed]",
      "text/plain": [
       "<Figure size 720x360 with 1 Axes>"
      ]
     },
     "metadata": {},
     "output_type": "display_data"
    }
   ],
   "source": [
    "# changing string to integer\n",
    "df[[\"Q12_Savory\",'Q12_Spicy','Q12_Sweet','Q1_Comfortable']] = df[[\"Q12_Savory\",'Q12_Spicy','Q12_Sweet','Q1_Comfortable']].astype(int)\n",
    "\n",
    "# ploting using seaborn\n",
    "sns.set_style('ticks')\n",
    "fig, ax = plt.subplots()\n",
    "fig.set_size_inches(18.5, 10.5)\n",
    "sns.despine()\n",
    "\n",
    "# plotting comparison variables\n",
    "sns.regplot(x=\"Q12_Savory\", y=\"Q1_Comfortable\", color='red',data=df, label=\"$Savory$\")\n",
    "sns.regplot(x=\"Q12_Spicy\", y=\"Q1_Comfortable\", data=df, color='springgreen',label=\"$Spicy$\")\n",
    "sns.regplot(x=\"Q12_Sweet\", y=\"Q1_Comfortable\", data=df, color='blue', label=\"$Sweet$\")\n",
    "\n",
    "# labeling\n",
    "plt.xlabel(\"Food Rating\")\n",
    "plt.ylabel(\"Debugging Comfortability Rating\")\n",
    "plt.title(\"Class Survey - Question #1 and #12\")\n",
    "plt.ylim(0,)\n",
    "plt.legend()\n",
    "\n",
    "# setting chart size\n",
    "fig.set_size_inches(10, 5)\n"
   ]
  },
  {
   "cell_type": "markdown",
   "metadata": {},
   "source": [
    "Similar to how we interpreted <b>Q12</b> with <b>Q10</b>, we notice that the more comfortable a student is with debugging code, the less they like spicy food due to the negative correlation. The opposite can be said about sweet and savory. There is a positive correlation with sweet and savory food ratings and code debugging comfortability, meaning the more comfortable a student is debugging errors in python, the more they like sweet and savory foods."
   ]
  },
  {
   "cell_type": "markdown",
   "metadata": {},
   "source": [
    "## Exploring Question 10 <i>\"What generation do you most identify with?\"</i> and responses who agree with Question 4, <i>\"Doing well at data visualization will enhance my career/job opportunities.\"</i>\n"
   ]
  },
  {
   "cell_type": "markdown",
   "metadata": {},
   "source": [
    "## Pie Chart\n",
    "\n",
    "A pie chart can help us to understand the distribution of variables in an easily readable way. Let's create a pie chart by comparing the percentage of students who agree doing well at data visualization will enhance career/job opportunities with their identified generation rating. "
   ]
  },
  {
   "cell_type": "code",
   "execution_count": 91,
   "metadata": {},
   "outputs": [
    {
     "data": {
      "image/png": "[encoded data removed]",
      "text/plain": [
       "<Figure size 720x432 with 1 Axes>"
      ]
     },
     "metadata": {},
     "output_type": "display_data"
    }
   ],
   "source": [
    "data = df.groupby(\"Q10_Ans\")[\"Q4_Agree\"].count()\n",
    "labels = ['Gen X','Gen Z','Generation Y (Millenials)','Greatest Generation']\n",
    "colors = ['#ff9999','#66b3ff','#99ff99','#ffcc99']\n",
    "pie, ax = plt.subplots(figsize=[10,6])\n",
    "plt.pie(x=data, autopct=\"%.1f%%\", explode=[0.05]*4, pctdistance=0.5, labels=labels,colors=colors,shadow=True)\n",
    "plt.title(\"Generations that agree data visualization will help with job prospects\", fontsize=14);\n"
   ]
  },
  {
   "cell_type": "markdown",
   "metadata": {},
   "source": [
    "At the beginning of our exploration, we knew that the data set had more students who rated highly with Gen Y (Millenials) identification so it's not a surprise that the majority of students who agree doing well at data visualization will enahnce career/job opportunities identify most as Gen Y (Millenials) at 65.9%."
   ]
  },
  {
   "cell_type": "markdown",
   "metadata": {},
   "source": [
    "## Exploring Question 1 \"<i>How comfortable are you with your ability to debug an error in a python script?</i>\" and responses who agree with Question 4, <i>\"Doing well at data visualization will enhance my career/job opportunities.\"</i>"
   ]
  },
  {
   "cell_type": "markdown",
   "metadata": {},
   "source": [
    "Let's look at another comparison using another pie chart. Instead, we'll compare <b>Q1</b> comfortability with debugging errors in python code and <b>Q4</b> agreeance that doing well at data visualization will enhance career/job opportunities"
   ]
  },
  {
   "cell_type": "code",
   "execution_count": 92,
   "metadata": {},
   "outputs": [
    {
     "data": {
      "image/png": "[encoded data removed]",
      "text/plain": [
       "<Figure size 720x432 with 1 Axes>"
      ]
     },
     "metadata": {},
     "output_type": "display_data"
    }
   ],
   "source": [
    "# creating pie chart\n",
    "#df[[\"Q4_Agree\",\"Q1_Ans\"]] = df[[\"Q4_Agree\",\"Q1_Ans\"]].astype(int)\n",
    "\n",
    "data1 = df.groupby(\"Q1_Ans\")[\"Q4_Agree\"].count()\n",
    "labels = ['Comfortable','Neither','Uncomfortable']\n",
    "colors = ['#ff9999','#66b3ff','#99ff99','#ffcc99']\n",
    "pie, ax = plt.subplots(figsize=[10,6])\n",
    "plt.pie(x=data1, autopct=\"%.1f%%\",  explode=[0.05]*3, pctdistance=0.5, labels=labels,colors=colors, shadow=True)\n",
    "plt.title(\"Agreeance that data visualization will help with job prospects sorted by debugging comfortability\", fontsize=14);\n"
   ]
  },
  {
   "cell_type": "markdown",
   "metadata": {},
   "source": [
    "From this visualization, we can see that 61% of students who are comfortable with debugging errors in python code also agree that data visualization will enhance their job opportunities, while only 24.4% who are neither comfortable or uncomfortable and 14.6% who are uncomfortable agree that data visualization will enhance their job opportunities. "
   ]
  },
  {
   "cell_type": "markdown",
   "metadata": {},
   "source": [
    "## Conclusion\n",
    "\n",
    "This demonstration provided an overview of (1) bar charts, (2) SPLOMS, (3) regression models, and (4) pie charts using a simple class survey. The various graphs and plots that we used provide just a glimpse to what libraries such as Seaborn, Plotly, and Matplotlib can do for improving visualizations.  \n",
    "\n",
    "### Simple Rules for Better Figures\n",
    "##### Know Your Audience - The beginning of the demonstration gives a brief overview of what the data is, where it came from, and what to expect.\n",
    "##### Captions Are Not Optional - Descriptions were included to explain the different plots and what the results were.\n",
    "##### Do Not Trust the Defaults - Default settings were adjusted to better express the results.\n"
   ]
  }
 ],
 "metadata": {
  "kernelspec": {
   "display_name": "Python 3",
   "language": "python",
   "name": "python3"
  },
  "language_info": {
   "codemirror_mode": {
    "name": "ipython",
    "version": 3
   },
   "file_extension": ".py",
   "mimetype": "text/x-python",
   "name": "python",
   "nbconvert_exporter": "python",
   "pygments_lexer": "ipython3",
   "version": "3.7.3"
  }
 },
 "nbformat": 4,
 "nbformat_minor": 4
}
